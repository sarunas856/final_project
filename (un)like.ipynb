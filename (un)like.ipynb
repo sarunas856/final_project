{
  "nbformat": 4,
  "nbformat_minor": 0,
  "metadata": {
    "colab": {
      "name": "(un)like.ipynb",
      "provenance": [],
      "collapsed_sections": [],
      "authorship_tag": "ABX9TyMSoOMUoO9Hs2tli/jjHT/1",
      "include_colab_link": true
    },
    "kernelspec": {
      "name": "python3",
      "display_name": "Python 3"
    },
    "language_info": {
      "name": "python"
    },
    "accelerator": "GPU"
  },
  "cells": [
    {
      "cell_type": "markdown",
      "metadata": {
        "id": "view-in-github",
        "colab_type": "text"
      },
      "source": [
        "<a href=\"https://colab.research.google.com/github/sarunas856/final_project/blob/main/(un)like.ipynb\" target=\"_parent\"><img src=\"https://colab.research.google.com/assets/colab-badge.svg\" alt=\"Open In Colab\"/></a>"
      ]
    },
    {
      "cell_type": "markdown",
      "source": [
        "## Prepare data"
      ],
      "metadata": {
        "id": "FpYaaMsBWu2d"
      }
    },
    {
      "cell_type": "code",
      "execution_count": 1,
      "metadata": {
        "id": "Mckkn5AO5TRQ"
      },
      "outputs": [],
      "source": [
        "from pathlib import Path"
      ]
    },
    {
      "cell_type": "code",
      "source": [
        "from google.colab import drive\n",
        "drive.mount('/content/gdrive/')"
      ],
      "metadata": {
        "colab": {
          "base_uri": "https://localhost:8080/"
        },
        "id": "791aq4ga50KU",
        "outputId": "243832f6-5f3f-419d-bd7a-982d45ee3af1"
      },
      "execution_count": 2,
      "outputs": [
        {
          "output_type": "stream",
          "name": "stdout",
          "text": [
            "Mounted at /content/gdrive/\n"
          ]
        }
      ]
    },
    {
      "cell_type": "code",
      "source": [
        "from google.colab.patches import cv2_imshow # cv2_imshow performs convertion BGR2RGB itself"
      ],
      "metadata": {
        "id": "B9mzmYoK55YZ"
      },
      "execution_count": 3,
      "outputs": []
    },
    {
      "cell_type": "code",
      "source": [
        "def plot_classification(y_true, y_pred):\n",
        "    target_names = searches\n",
        "    labels_names = [0, 1] \n",
        "    print(classification_report(y_true, y_pred,labels=labels_names, target_names=target_names))    \n",
        "    cm = confusion_matrix(y_true, y_pred,labels=labels_names)  #, normalize='true'\n",
        "    disp = ConfusionMatrixDisplay(confusion_matrix=cm,display_labels=target_names)\n",
        "    disp = disp.plot(cmap=plt.cm.Blues,values_format='g')\n",
        "    plt.show()\n",
        "\n",
        "\n",
        "def plot_history(history):\n",
        "    acc = history.history['accuracy']\n",
        "    val_acc = history.history['val_accuracy']\n",
        "\n",
        "    loss = history.history['loss']\n",
        "    val_loss = history.history['val_loss']\n",
        "\n",
        "    plt.figure(figsize=(8, 8))\n",
        "    plt.subplot(2, 1, 1)\n",
        "    plt.plot(acc, label='Training Accuracy')\n",
        "    plt.plot(val_acc, label='Validation Accuracy')\n",
        "    plt.ylim([0.5, 1])\n",
        "    plt.legend(loc='lower right')\n",
        "    plt.title('Training and Validation Accuracy')\n",
        "\n",
        "    plt.subplot(2, 1, 2)\n",
        "    plt.plot(loss, label='Training Loss')\n",
        "    plt.plot(val_loss, label='Validation Loss')\n",
        "    plt.ylim([0, 1.0])\n",
        "    plt.legend(loc='upper right')\n",
        "    plt.title('Training and Validation Loss')\n",
        "    plt.xlabel('epoch')\n",
        "    plt.show()"
      ],
      "metadata": {
        "id": "5-GV-BJJ573F"
      },
      "execution_count": 4,
      "outputs": []
    },
    {
      "cell_type": "code",
      "source": [
        "searches = 'like', 'unlike'\n",
        "data_dir = Path('/content/gdrive/My Drive/tinder')"
      ],
      "metadata": {
        "id": "GRsgKu0t5_R5"
      },
      "execution_count": 5,
      "outputs": []
    },
    {
      "cell_type": "code",
      "source": [
        "import tensorflow as tf\n",
        "tf.config.list_physical_devices('GPU')"
      ],
      "metadata": {
        "colab": {
          "base_uri": "https://localhost:8080/"
        },
        "id": "kagHnVty6J9V",
        "outputId": "1361deeb-5c15-4649-ee76-636a71092b05"
      },
      "execution_count": 6,
      "outputs": [
        {
          "output_type": "execute_result",
          "data": {
            "text/plain": [
              "[PhysicalDevice(name='/physical_device:GPU:0', device_type='GPU')]"
            ]
          },
          "metadata": {},
          "execution_count": 6
        }
      ]
    },
    {
      "cell_type": "code",
      "source": [
        "from tensorflow.keras.callbacks import EarlyStopping"
      ],
      "metadata": {
        "id": "JdpbcgkE6NWD"
      },
      "execution_count": 7,
      "outputs": []
    },
    {
      "cell_type": "code",
      "source": [
        "import matplotlib.pyplot as plt\n",
        "import numpy as np\n",
        "import os\n",
        "import PIL\n",
        "import PIL.Image"
      ],
      "metadata": {
        "id": "BTI43m0u6OnJ"
      },
      "execution_count": 8,
      "outputs": []
    },
    {
      "cell_type": "code",
      "source": [
        "image_count = len(list(data_dir.glob('*/*.png')))\n",
        "print(image_count)"
      ],
      "metadata": {
        "colab": {
          "base_uri": "https://localhost:8080/"
        },
        "id": "-TW_2UtV6Qbu",
        "outputId": "8823e3ec-ee83-4e77-eae1-5ee6d0d5431b"
      },
      "execution_count": 9,
      "outputs": [
        {
          "output_type": "stream",
          "name": "stdout",
          "text": [
            "1000\n"
          ]
        }
      ]
    },
    {
      "cell_type": "code",
      "source": [
        "IMG_SIZE = (128, 128)"
      ],
      "metadata": {
        "id": "NI6zFFkg61aI"
      },
      "execution_count": 10,
      "outputs": []
    },
    {
      "cell_type": "code",
      "source": [
        "# like = list(data_dir.glob('like/*'))\n",
        "# im = PIL.Image.open(str(like[173]))\n",
        "# im.resize(IMG_SIZE)"
      ],
      "metadata": {
        "id": "yiAW0JLd62b7"
      },
      "execution_count": 11,
      "outputs": []
    },
    {
      "cell_type": "code",
      "source": [
        "BATCH_SIZE = 64\n",
        "\n",
        "train_ds = tf.keras.utils.image_dataset_from_directory(\n",
        "    data_dir,\n",
        "    validation_split=0.25,\n",
        "    subset=\"training\",\n",
        "    seed=123,\n",
        "    batch_size=BATCH_SIZE,\n",
        "    image_size=IMG_SIZE)\n",
        "\n",
        "val_ds = tf.keras.utils.image_dataset_from_directory(\n",
        "    data_dir,\n",
        "    validation_split=0.2,\n",
        "    subset=\"validation\",\n",
        "    seed=123,\n",
        "    batch_size=BATCH_SIZE,\n",
        "    image_size=IMG_SIZE)\n",
        "\n",
        "test_dataset = val_ds.take(2)\n",
        "val_ds = val_ds.skip(2)\n",
        "\n",
        "print('Batches for testing -->', test_dataset.cardinality())\n",
        "print('Batches for validating -->', val_ds.cardinality())"
      ],
      "metadata": {
        "colab": {
          "base_uri": "https://localhost:8080/"
        },
        "id": "JyxCkpfIW6Et",
        "outputId": "0ff6917c-fb07-4f1b-faa7-ebe04bee12df"
      },
      "execution_count": 12,
      "outputs": [
        {
          "output_type": "stream",
          "name": "stdout",
          "text": [
            "Found 1000 files belonging to 2 classes.\n",
            "Using 750 files for training.\n",
            "Found 1000 files belonging to 2 classes.\n",
            "Using 200 files for validation.\n",
            "Batches for testing --> tf.Tensor(2, shape=(), dtype=int64)\n",
            "Batches for validating --> tf.Tensor(2, shape=(), dtype=int64)\n"
          ]
        }
      ]
    },
    {
      "cell_type": "code",
      "source": [
        "class_names = train_ds.class_names\n",
        "print(class_names)"
      ],
      "metadata": {
        "colab": {
          "base_uri": "https://localhost:8080/"
        },
        "id": "LDZeIeNQXrDk",
        "outputId": "509a8ba0-5521-4cd4-c774-90da17d7c4ed"
      },
      "execution_count": 13,
      "outputs": [
        {
          "output_type": "stream",
          "name": "stdout",
          "text": [
            "['like', 'unlike']\n"
          ]
        }
      ]
    },
    {
      "cell_type": "code",
      "source": [
        "# plt.figure(figsize=(10, 10))\n",
        "# for images, labels in train_ds.take(1):\n",
        "#   for i in range(9):\n",
        "#     ax = plt.subplot(3, 3, i + 1)\n",
        "#     plt.imshow(images[i].numpy().astype(\"uint8\"))\n",
        "#     plt.title(class_names[labels[i]])\n",
        "#     plt.axis(\"off\")"
      ],
      "metadata": {
        "id": "RbwSI5r4Xtlo"
      },
      "execution_count": 14,
      "outputs": []
    },
    {
      "cell_type": "markdown",
      "source": [
        "#### Data normalization"
      ],
      "metadata": {
        "id": "nu3y87CR0tCp"
      }
    },
    {
      "cell_type": "code",
      "source": [
        "normalization_layer = tf.keras.layers.Rescaling(1./255)"
      ],
      "metadata": {
        "id": "qZ02WWS5ZxFC"
      },
      "execution_count": 15,
      "outputs": []
    },
    {
      "cell_type": "markdown",
      "source": [
        "### Configure the dataset for performance\n",
        "\n"
      ],
      "metadata": {
        "id": "PIUWXUuPZ83Q"
      }
    },
    {
      "cell_type": "code",
      "source": [
        "AUTOTUNE = tf.data.AUTOTUNE\n",
        "\n",
        "train_ds = train_ds.cache().prefetch(buffer_size=AUTOTUNE)\n",
        "val_ds = val_ds.cache().prefetch(buffer_size=AUTOTUNE)\n",
        "test_dataset = test_dataset.cache().prefetch(buffer_size=AUTOTUNE)"
      ],
      "metadata": {
        "id": "gYyjtFsXaB8g"
      },
      "execution_count": 16,
      "outputs": []
    },
    {
      "cell_type": "markdown",
      "source": [
        "#### Data augmentation"
      ],
      "metadata": {
        "id": "kVhquVY-08Rv"
      }
    },
    {
      "cell_type": "code",
      "source": [
        "data_augmentation = tf.keras.Sequential([\n",
        "  tf.keras.layers.RandomFlip('horizontal'),\n",
        "  tf.keras.layers.RandomRotation(0.1),\n",
        "  tf.keras.layers.RandomZoom(0.1, 0.2)\n",
        "])"
      ],
      "metadata": {
        "id": "8i0juceDffdQ"
      },
      "execution_count": 17,
      "outputs": []
    },
    {
      "cell_type": "markdown",
      "source": [
        "### Create the base model from the pre-trained convnets"
      ],
      "metadata": {
        "id": "Zv78pl_iaOFK"
      }
    },
    {
      "cell_type": "code",
      "source": [
        "# Create the base model from the pre-trained model MobileNet V2\n",
        "IMG_SHAPE = IMG_SIZE + (3,)\n",
        "\n",
        "early_stopping_monitor = EarlyStopping(patience=100, restore_best_weights=True)\n",
        "\n",
        "total_epochs = 100"
      ],
      "metadata": {
        "id": "qaphJVk6aaw4"
      },
      "execution_count": 56,
      "outputs": []
    },
    {
      "cell_type": "code",
      "source": [
        "def create_model():\n",
        "    base_model = tf.keras.applications.MobileNetV2(input_shape=IMG_SHAPE,\n",
        "                                                include_top=False,\n",
        "                                                weights='imagenet')\n",
        "\n",
        "    base_model.trainable = True\n",
        "\n",
        "    # Let's take a look to see how many layers are in the base model\n",
        "    print(\"Number of layers in the base model: \", len(base_model.layers))\n",
        "\n",
        "    # Fine-tune from this layer onwards\n",
        "    fine_tune_at = 140 #140\n",
        "\n",
        "    # Freeze all the layers before the `fine_tune_at` layer\n",
        "    for layer in base_model.layers[:fine_tune_at]:\n",
        "        layer.trainable = False\n",
        "    \n",
        "    # # Add a classification head\n",
        "    # image_batch, label_batch = next(iter(train_ds))\n",
        "    # feature_batch = base_model(image_batch)\n",
        "\n",
        "    global_average_layer = tf.keras.layers.GlobalAveragePooling2D()\n",
        "    # feature_batch_average = global_average_layer(feature_batch)\n",
        "\n",
        "    prediction_layer = tf.keras.layers.Dense(1)\n",
        "    # prediction_batch = prediction_layer(feature_batch_average)\n",
        "    # print(prediction_batch.shape)\n",
        "\n",
        "    inputs = tf.keras.Input(shape=IMG_SHAPE)\n",
        "    x = data_augmentation(inputs)\n",
        "    x = normalization_layer(x)\n",
        "    x = base_model(x, training=False)\n",
        "    x = global_average_layer(x)\n",
        "    x = tf.keras.layers.Dropout(0.15)(x) \n",
        "    outputs = prediction_layer(x)\n",
        "    model = tf.keras.Model(inputs, outputs)\n",
        "\n",
        "    base_learning_rate = 0.0001\n",
        "\n",
        "    model.compile(loss=tf.keras.losses.BinaryCrossentropy(from_logits=True),\n",
        "                optimizer = tf.keras.optimizers.RMSprop(learning_rate=base_learning_rate/20),\n",
        "                metrics=['accuracy'])\n",
        "\n",
        "    return model"
      ],
      "metadata": {
        "id": "K7nN9ZpCacZI"
      },
      "execution_count": 57,
      "outputs": []
    },
    {
      "cell_type": "code",
      "source": [
        "model = create_model()\n",
        "\n",
        "model.summary()"
      ],
      "metadata": {
        "colab": {
          "base_uri": "https://localhost:8080/"
        },
        "id": "k8tHL4uTalfT",
        "outputId": "21c999ca-6b2e-436f-bae2-51994a851747"
      },
      "execution_count": 58,
      "outputs": [
        {
          "output_type": "stream",
          "name": "stdout",
          "text": [
            "Number of layers in the base model:  154\n",
            "Model: \"model_8\"\n",
            "_________________________________________________________________\n",
            " Layer (type)                Output Shape              Param #   \n",
            "=================================================================\n",
            " input_18 (InputLayer)       [(None, 128, 128, 3)]     0         \n",
            "                                                                 \n",
            " sequential (Sequential)     (None, 128, 128, 3)       0         \n",
            "                                                                 \n",
            " rescaling (Rescaling)       (None, 128, 128, 3)       0         \n",
            "                                                                 \n",
            " mobilenetv2_1.00_128 (Funct  (None, 4, 4, 1280)       2257984   \n",
            " ional)                                                          \n",
            "                                                                 \n",
            " global_average_pooling2d_8   (None, 1280)             0         \n",
            " (GlobalAveragePooling2D)                                        \n",
            "                                                                 \n",
            " dropout_8 (Dropout)         (None, 1280)              0         \n",
            "                                                                 \n",
            " dense_8 (Dense)             (None, 1)                 1281      \n",
            "                                                                 \n",
            "=================================================================\n",
            "Total params: 2,259,265\n",
            "Trainable params: 1,041,281\n",
            "Non-trainable params: 1,217,984\n",
            "_________________________________________________________________\n"
          ]
        }
      ]
    },
    {
      "cell_type": "code",
      "source": [
        "history = model.fit(train_ds, epochs=total_epochs, verbose=True, \n",
        "                    validation_data=val_ds, callbacks = [early_stopping_monitor])"
      ],
      "metadata": {
        "colab": {
          "base_uri": "https://localhost:8080/"
        },
        "id": "4B4O1U36atjP",
        "outputId": "38c7fd12-653a-4acf-dd36-c892e46888e3"
      },
      "execution_count": 59,
      "outputs": [
        {
          "output_type": "stream",
          "name": "stdout",
          "text": [
            "Epoch 1/100\n",
            "12/12 [==============================] - 5s 123ms/step - loss: 0.7874 - accuracy: 0.5093 - val_loss: 0.7205 - val_accuracy: 0.5417\n",
            "Epoch 2/100\n",
            "12/12 [==============================] - 1s 45ms/step - loss: 0.7458 - accuracy: 0.5240 - val_loss: 0.7146 - val_accuracy: 0.5417\n",
            "Epoch 3/100\n",
            "12/12 [==============================] - 1s 45ms/step - loss: 0.7121 - accuracy: 0.5520 - val_loss: 0.7006 - val_accuracy: 0.5972\n",
            "Epoch 4/100\n",
            "12/12 [==============================] - 1s 45ms/step - loss: 0.7095 - accuracy: 0.5440 - val_loss: 0.6941 - val_accuracy: 0.6111\n",
            "Epoch 5/100\n",
            "12/12 [==============================] - 1s 45ms/step - loss: 0.6921 - accuracy: 0.5520 - val_loss: 0.6853 - val_accuracy: 0.6250\n",
            "Epoch 6/100\n",
            "12/12 [==============================] - 1s 44ms/step - loss: 0.6901 - accuracy: 0.5707 - val_loss: 0.6745 - val_accuracy: 0.6389\n",
            "Epoch 7/100\n",
            "12/12 [==============================] - 1s 46ms/step - loss: 0.6781 - accuracy: 0.5800 - val_loss: 0.6716 - val_accuracy: 0.6389\n",
            "Epoch 8/100\n",
            "12/12 [==============================] - 1s 45ms/step - loss: 0.6691 - accuracy: 0.5947 - val_loss: 0.6667 - val_accuracy: 0.6944\n",
            "Epoch 9/100\n",
            "12/12 [==============================] - 1s 45ms/step - loss: 0.6683 - accuracy: 0.5747 - val_loss: 0.6644 - val_accuracy: 0.6667\n",
            "Epoch 10/100\n",
            "12/12 [==============================] - 1s 46ms/step - loss: 0.6407 - accuracy: 0.6093 - val_loss: 0.6632 - val_accuracy: 0.6806\n",
            "Epoch 11/100\n",
            "12/12 [==============================] - 1s 44ms/step - loss: 0.6286 - accuracy: 0.6107 - val_loss: 0.6597 - val_accuracy: 0.6667\n",
            "Epoch 12/100\n",
            "12/12 [==============================] - 0s 39ms/step - loss: 0.6359 - accuracy: 0.6080 - val_loss: 0.6618 - val_accuracy: 0.6528\n",
            "Epoch 13/100\n",
            "12/12 [==============================] - 0s 39ms/step - loss: 0.6377 - accuracy: 0.6187 - val_loss: 0.6643 - val_accuracy: 0.6389\n",
            "Epoch 14/100\n",
            "12/12 [==============================] - 1s 45ms/step - loss: 0.6233 - accuracy: 0.6267 - val_loss: 0.6563 - val_accuracy: 0.6528\n",
            "Epoch 15/100\n",
            "12/12 [==============================] - 1s 45ms/step - loss: 0.6313 - accuracy: 0.6013 - val_loss: 0.6549 - val_accuracy: 0.6667\n",
            "Epoch 16/100\n",
            "12/12 [==============================] - 1s 46ms/step - loss: 0.6439 - accuracy: 0.5973 - val_loss: 0.6536 - val_accuracy: 0.6806\n",
            "Epoch 17/100\n",
            "12/12 [==============================] - 1s 45ms/step - loss: 0.6184 - accuracy: 0.6160 - val_loss: 0.6433 - val_accuracy: 0.6389\n",
            "Epoch 18/100\n",
            "12/12 [==============================] - 0s 39ms/step - loss: 0.6143 - accuracy: 0.6467 - val_loss: 0.6461 - val_accuracy: 0.6806\n",
            "Epoch 19/100\n",
            "12/12 [==============================] - 0s 40ms/step - loss: 0.6246 - accuracy: 0.6280 - val_loss: 0.6461 - val_accuracy: 0.6667\n",
            "Epoch 20/100\n",
            "12/12 [==============================] - 0s 40ms/step - loss: 0.6110 - accuracy: 0.6280 - val_loss: 0.6506 - val_accuracy: 0.6667\n",
            "Epoch 21/100\n",
            "12/12 [==============================] - 0s 39ms/step - loss: 0.6004 - accuracy: 0.6347 - val_loss: 0.6466 - val_accuracy: 0.6667\n",
            "Epoch 22/100\n",
            "12/12 [==============================] - 0s 40ms/step - loss: 0.5976 - accuracy: 0.6507 - val_loss: 0.6447 - val_accuracy: 0.6667\n",
            "Epoch 23/100\n",
            "12/12 [==============================] - 1s 45ms/step - loss: 0.5900 - accuracy: 0.6507 - val_loss: 0.6408 - val_accuracy: 0.6806\n",
            "Epoch 24/100\n",
            "12/12 [==============================] - 1s 47ms/step - loss: 0.5828 - accuracy: 0.6547 - val_loss: 0.6390 - val_accuracy: 0.6944\n",
            "Epoch 25/100\n",
            "12/12 [==============================] - 1s 45ms/step - loss: 0.6006 - accuracy: 0.6520 - val_loss: 0.6347 - val_accuracy: 0.7083\n",
            "Epoch 26/100\n",
            "12/12 [==============================] - 1s 45ms/step - loss: 0.5930 - accuracy: 0.6400 - val_loss: 0.6316 - val_accuracy: 0.7222\n",
            "Epoch 27/100\n",
            "12/12 [==============================] - 0s 39ms/step - loss: 0.5785 - accuracy: 0.6627 - val_loss: 0.6317 - val_accuracy: 0.6944\n",
            "Epoch 28/100\n",
            "12/12 [==============================] - 1s 45ms/step - loss: 0.5906 - accuracy: 0.6493 - val_loss: 0.6315 - val_accuracy: 0.6944\n",
            "Epoch 29/100\n",
            "12/12 [==============================] - 1s 45ms/step - loss: 0.5686 - accuracy: 0.6520 - val_loss: 0.6310 - val_accuracy: 0.6944\n",
            "Epoch 30/100\n",
            "12/12 [==============================] - 1s 46ms/step - loss: 0.5615 - accuracy: 0.6893 - val_loss: 0.6256 - val_accuracy: 0.7083\n",
            "Epoch 31/100\n",
            "12/12 [==============================] - 0s 39ms/step - loss: 0.5956 - accuracy: 0.6413 - val_loss: 0.6305 - val_accuracy: 0.6944\n",
            "Epoch 32/100\n",
            "12/12 [==============================] - 0s 40ms/step - loss: 0.5575 - accuracy: 0.6773 - val_loss: 0.6351 - val_accuracy: 0.6944\n",
            "Epoch 33/100\n",
            "12/12 [==============================] - 1s 45ms/step - loss: 0.5727 - accuracy: 0.6893 - val_loss: 0.6244 - val_accuracy: 0.6944\n",
            "Epoch 34/100\n",
            "12/12 [==============================] - 0s 39ms/step - loss: 0.5809 - accuracy: 0.6560 - val_loss: 0.6250 - val_accuracy: 0.6944\n",
            "Epoch 35/100\n",
            "12/12 [==============================] - 1s 45ms/step - loss: 0.5633 - accuracy: 0.6867 - val_loss: 0.6217 - val_accuracy: 0.7083\n",
            "Epoch 36/100\n",
            "12/12 [==============================] - 1s 45ms/step - loss: 0.5456 - accuracy: 0.7080 - val_loss: 0.6190 - val_accuracy: 0.6944\n",
            "Epoch 37/100\n",
            "12/12 [==============================] - 0s 40ms/step - loss: 0.5561 - accuracy: 0.6813 - val_loss: 0.6234 - val_accuracy: 0.7083\n",
            "Epoch 38/100\n",
            "12/12 [==============================] - 0s 40ms/step - loss: 0.5528 - accuracy: 0.6787 - val_loss: 0.6251 - val_accuracy: 0.7083\n",
            "Epoch 39/100\n",
            "12/12 [==============================] - 1s 45ms/step - loss: 0.5503 - accuracy: 0.6853 - val_loss: 0.6188 - val_accuracy: 0.6806\n",
            "Epoch 40/100\n",
            "12/12 [==============================] - 1s 44ms/step - loss: 0.5490 - accuracy: 0.6800 - val_loss: 0.6177 - val_accuracy: 0.6806\n",
            "Epoch 41/100\n",
            "12/12 [==============================] - 1s 46ms/step - loss: 0.5500 - accuracy: 0.6667 - val_loss: 0.6172 - val_accuracy: 0.6667\n",
            "Epoch 42/100\n",
            "12/12 [==============================] - 0s 40ms/step - loss: 0.5448 - accuracy: 0.6973 - val_loss: 0.6174 - val_accuracy: 0.6667\n",
            "Epoch 43/100\n",
            "12/12 [==============================] - 0s 40ms/step - loss: 0.5437 - accuracy: 0.6960 - val_loss: 0.6196 - val_accuracy: 0.6806\n",
            "Epoch 44/100\n",
            "12/12 [==============================] - 1s 46ms/step - loss: 0.5454 - accuracy: 0.7067 - val_loss: 0.6143 - val_accuracy: 0.7083\n",
            "Epoch 45/100\n",
            "12/12 [==============================] - 0s 39ms/step - loss: 0.5504 - accuracy: 0.6733 - val_loss: 0.6196 - val_accuracy: 0.6806\n",
            "Epoch 46/100\n",
            "12/12 [==============================] - 1s 45ms/step - loss: 0.5236 - accuracy: 0.7133 - val_loss: 0.6125 - val_accuracy: 0.7083\n",
            "Epoch 47/100\n",
            "12/12 [==============================] - 1s 45ms/step - loss: 0.5168 - accuracy: 0.7187 - val_loss: 0.6112 - val_accuracy: 0.6944\n",
            "Epoch 48/100\n",
            "12/12 [==============================] - 1s 46ms/step - loss: 0.5258 - accuracy: 0.7013 - val_loss: 0.6099 - val_accuracy: 0.6944\n",
            "Epoch 49/100\n",
            "12/12 [==============================] - 1s 45ms/step - loss: 0.5364 - accuracy: 0.7000 - val_loss: 0.6064 - val_accuracy: 0.7083\n",
            "Epoch 50/100\n",
            "12/12 [==============================] - 1s 45ms/step - loss: 0.5335 - accuracy: 0.6987 - val_loss: 0.6039 - val_accuracy: 0.7083\n",
            "Epoch 51/100\n",
            "12/12 [==============================] - 1s 45ms/step - loss: 0.5237 - accuracy: 0.7160 - val_loss: 0.6009 - val_accuracy: 0.6944\n",
            "Epoch 52/100\n",
            "12/12 [==============================] - 0s 40ms/step - loss: 0.5258 - accuracy: 0.7013 - val_loss: 0.6022 - val_accuracy: 0.6944\n",
            "Epoch 53/100\n",
            "12/12 [==============================] - 0s 40ms/step - loss: 0.5158 - accuracy: 0.7107 - val_loss: 0.6046 - val_accuracy: 0.6944\n",
            "Epoch 54/100\n",
            "12/12 [==============================] - 0s 40ms/step - loss: 0.5098 - accuracy: 0.7200 - val_loss: 0.6023 - val_accuracy: 0.6944\n",
            "Epoch 55/100\n",
            "12/12 [==============================] - 0s 40ms/step - loss: 0.5116 - accuracy: 0.7227 - val_loss: 0.6115 - val_accuracy: 0.6806\n",
            "Epoch 56/100\n",
            "12/12 [==============================] - 0s 40ms/step - loss: 0.5113 - accuracy: 0.7080 - val_loss: 0.6057 - val_accuracy: 0.6806\n",
            "Epoch 57/100\n",
            "12/12 [==============================] - 0s 39ms/step - loss: 0.5085 - accuracy: 0.7040 - val_loss: 0.6084 - val_accuracy: 0.6806\n",
            "Epoch 58/100\n",
            "12/12 [==============================] - 1s 45ms/step - loss: 0.5091 - accuracy: 0.7213 - val_loss: 0.5994 - val_accuracy: 0.6667\n",
            "Epoch 59/100\n",
            "12/12 [==============================] - 0s 40ms/step - loss: 0.5045 - accuracy: 0.7280 - val_loss: 0.6080 - val_accuracy: 0.6806\n",
            "Epoch 60/100\n",
            "12/12 [==============================] - 0s 40ms/step - loss: 0.4922 - accuracy: 0.7413 - val_loss: 0.6049 - val_accuracy: 0.6944\n",
            "Epoch 61/100\n",
            "12/12 [==============================] - 1s 45ms/step - loss: 0.4950 - accuracy: 0.7333 - val_loss: 0.5982 - val_accuracy: 0.6806\n",
            "Epoch 62/100\n",
            "12/12 [==============================] - 0s 40ms/step - loss: 0.4909 - accuracy: 0.7213 - val_loss: 0.6017 - val_accuracy: 0.6944\n",
            "Epoch 63/100\n",
            "12/12 [==============================] - 0s 40ms/step - loss: 0.4898 - accuracy: 0.7360 - val_loss: 0.6080 - val_accuracy: 0.7083\n",
            "Epoch 64/100\n",
            "12/12 [==============================] - 0s 40ms/step - loss: 0.4808 - accuracy: 0.7560 - val_loss: 0.6108 - val_accuracy: 0.6944\n",
            "Epoch 65/100\n",
            "12/12 [==============================] - 1s 45ms/step - loss: 0.4670 - accuracy: 0.7533 - val_loss: 0.5956 - val_accuracy: 0.6944\n",
            "Epoch 66/100\n",
            "12/12 [==============================] - 1s 45ms/step - loss: 0.4956 - accuracy: 0.7307 - val_loss: 0.5935 - val_accuracy: 0.6944\n",
            "Epoch 67/100\n",
            "12/12 [==============================] - 0s 39ms/step - loss: 0.4890 - accuracy: 0.7400 - val_loss: 0.5938 - val_accuracy: 0.7083\n",
            "Epoch 68/100\n",
            "12/12 [==============================] - 0s 40ms/step - loss: 0.4947 - accuracy: 0.7307 - val_loss: 0.5947 - val_accuracy: 0.7083\n",
            "Epoch 69/100\n",
            "12/12 [==============================] - 1s 45ms/step - loss: 0.4899 - accuracy: 0.7587 - val_loss: 0.5929 - val_accuracy: 0.7222\n",
            "Epoch 70/100\n",
            "12/12 [==============================] - 0s 40ms/step - loss: 0.4679 - accuracy: 0.7680 - val_loss: 0.5941 - val_accuracy: 0.6944\n",
            "Epoch 71/100\n",
            "12/12 [==============================] - 0s 39ms/step - loss: 0.4770 - accuracy: 0.7493 - val_loss: 0.5950 - val_accuracy: 0.7222\n",
            "Epoch 72/100\n",
            "12/12 [==============================] - 1s 46ms/step - loss: 0.4621 - accuracy: 0.7640 - val_loss: 0.5901 - val_accuracy: 0.7361\n",
            "Epoch 73/100\n",
            "12/12 [==============================] - 0s 40ms/step - loss: 0.4732 - accuracy: 0.7507 - val_loss: 0.5911 - val_accuracy: 0.7222\n",
            "Epoch 74/100\n",
            "12/12 [==============================] - 0s 39ms/step - loss: 0.4660 - accuracy: 0.7707 - val_loss: 0.5946 - val_accuracy: 0.7083\n",
            "Epoch 75/100\n",
            "12/12 [==============================] - 0s 40ms/step - loss: 0.4949 - accuracy: 0.7453 - val_loss: 0.5933 - val_accuracy: 0.7083\n",
            "Epoch 76/100\n",
            "12/12 [==============================] - 0s 39ms/step - loss: 0.4679 - accuracy: 0.7587 - val_loss: 0.5925 - val_accuracy: 0.7222\n",
            "Epoch 77/100\n",
            "12/12 [==============================] - 0s 39ms/step - loss: 0.4606 - accuracy: 0.7667 - val_loss: 0.5981 - val_accuracy: 0.6806\n",
            "Epoch 78/100\n",
            "12/12 [==============================] - 0s 40ms/step - loss: 0.4672 - accuracy: 0.7773 - val_loss: 0.5907 - val_accuracy: 0.7083\n",
            "Epoch 79/100\n",
            "12/12 [==============================] - 0s 40ms/step - loss: 0.4555 - accuracy: 0.7773 - val_loss: 0.5912 - val_accuracy: 0.6944\n",
            "Epoch 80/100\n",
            "12/12 [==============================] - 0s 39ms/step - loss: 0.4597 - accuracy: 0.7613 - val_loss: 0.6065 - val_accuracy: 0.6667\n",
            "Epoch 81/100\n",
            "12/12 [==============================] - 0s 39ms/step - loss: 0.4665 - accuracy: 0.7560 - val_loss: 0.5956 - val_accuracy: 0.6944\n",
            "Epoch 82/100\n",
            "12/12 [==============================] - 1s 46ms/step - loss: 0.4525 - accuracy: 0.7853 - val_loss: 0.5891 - val_accuracy: 0.7083\n",
            "Epoch 83/100\n",
            "12/12 [==============================] - 0s 39ms/step - loss: 0.4623 - accuracy: 0.7560 - val_loss: 0.5927 - val_accuracy: 0.7083\n",
            "Epoch 84/100\n",
            "12/12 [==============================] - 0s 39ms/step - loss: 0.4556 - accuracy: 0.7653 - val_loss: 0.5946 - val_accuracy: 0.6944\n",
            "Epoch 85/100\n",
            "12/12 [==============================] - 0s 39ms/step - loss: 0.4647 - accuracy: 0.7560 - val_loss: 0.5913 - val_accuracy: 0.7083\n",
            "Epoch 86/100\n",
            "12/12 [==============================] - 0s 40ms/step - loss: 0.4558 - accuracy: 0.7613 - val_loss: 0.5893 - val_accuracy: 0.6944\n",
            "Epoch 87/100\n",
            "12/12 [==============================] - 0s 39ms/step - loss: 0.4521 - accuracy: 0.7640 - val_loss: 0.5929 - val_accuracy: 0.6944\n",
            "Epoch 88/100\n",
            "12/12 [==============================] - 0s 40ms/step - loss: 0.4316 - accuracy: 0.7907 - val_loss: 0.6067 - val_accuracy: 0.6806\n",
            "Epoch 89/100\n",
            "12/12 [==============================] - 0s 40ms/step - loss: 0.4369 - accuracy: 0.7613 - val_loss: 0.6016 - val_accuracy: 0.6667\n",
            "Epoch 90/100\n",
            "12/12 [==============================] - 0s 40ms/step - loss: 0.4402 - accuracy: 0.7800 - val_loss: 0.6049 - val_accuracy: 0.6806\n",
            "Epoch 91/100\n",
            "12/12 [==============================] - 0s 40ms/step - loss: 0.4506 - accuracy: 0.7853 - val_loss: 0.5937 - val_accuracy: 0.6806\n",
            "Epoch 92/100\n",
            "12/12 [==============================] - 0s 39ms/step - loss: 0.4479 - accuracy: 0.7907 - val_loss: 0.5946 - val_accuracy: 0.6806\n",
            "Epoch 93/100\n",
            "12/12 [==============================] - 0s 40ms/step - loss: 0.4312 - accuracy: 0.7947 - val_loss: 0.5939 - val_accuracy: 0.6944\n",
            "Epoch 94/100\n",
            "12/12 [==============================] - 0s 39ms/step - loss: 0.4191 - accuracy: 0.7907 - val_loss: 0.5982 - val_accuracy: 0.6667\n",
            "Epoch 95/100\n",
            "12/12 [==============================] - 0s 39ms/step - loss: 0.4343 - accuracy: 0.7813 - val_loss: 0.5904 - val_accuracy: 0.6806\n",
            "Epoch 96/100\n",
            "12/12 [==============================] - 0s 40ms/step - loss: 0.4467 - accuracy: 0.7707 - val_loss: 0.5924 - val_accuracy: 0.6806\n",
            "Epoch 97/100\n",
            "12/12 [==============================] - 0s 39ms/step - loss: 0.4436 - accuracy: 0.7667 - val_loss: 0.5944 - val_accuracy: 0.6944\n",
            "Epoch 98/100\n",
            "12/12 [==============================] - 0s 39ms/step - loss: 0.4236 - accuracy: 0.8013 - val_loss: 0.5895 - val_accuracy: 0.6944\n",
            "Epoch 99/100\n",
            "12/12 [==============================] - 1s 45ms/step - loss: 0.4249 - accuracy: 0.7853 - val_loss: 0.5854 - val_accuracy: 0.7083\n",
            "Epoch 100/100\n",
            "12/12 [==============================] - 0s 39ms/step - loss: 0.4213 - accuracy: 0.7907 - val_loss: 0.5872 - val_accuracy: 0.6944\n"
          ]
        }
      ]
    },
    {
      "cell_type": "code",
      "source": [
        "plot_history(history)"
      ],
      "metadata": {
        "colab": {
          "base_uri": "https://localhost:8080/",
          "height": 513
        },
        "id": "zCkRHHY6cBWl",
        "outputId": "0b12c06a-294c-4ed5-d9fd-7dfda293e1c6"
      },
      "execution_count": 60,
      "outputs": [
        {
          "output_type": "display_data",
          "data": {
            "text/plain": [
              "<Figure size 576x576 with 2 Axes>"
            ],
            "image/png": "[encoded data removed]"
          },
          "metadata": {
            "needs_background": "light"
          }
        }
      ]
    },
    {
      "cell_type": "code",
      "source": [
        "# Save keras model in Keras H5 format. \n",
        "model_path = 'my_model.h5'\n",
        "model.save(model_path)"
      ],
      "metadata": {
        "id": "jCLaUBjjmDGz"
      },
      "execution_count": 61,
      "outputs": []
    },
    {
      "cell_type": "code",
      "source": [
        "# Load keras model\n",
        "model_path = 'my_model.h5'\n",
        "model = tf.keras.models.load_model(model_path)"
      ],
      "metadata": {
        "id": "uSNp8SCPmFYV"
      },
      "execution_count": 62,
      "outputs": []
    }
  ]
}