{
  "nbformat": 4,
  "nbformat_minor": 0,
  "metadata": {
    "colab": {
      "name": "(un)like.ipynb",
      "provenance": [],
      "collapsed_sections": [],
      "authorship_tag": "ABX9TyPY9i+MbRE4SdaOFQjiPaYg",
      "include_colab_link": true
    },
    "kernelspec": {
      "name": "python3",
      "display_name": "Python 3"
    },
    "language_info": {
      "name": "python"
    },
    "accelerator": "GPU"
  },
  "cells": [
    {
      "cell_type": "markdown",
      "metadata": {
        "id": "view-in-github",
        "colab_type": "text"
      },
      "source": [
        "<a href=\"https://colab.research.google.com/github/sarunas856/final_project/blob/main/(un)like.ipynb\" target=\"_parent\"><img src=\"https://colab.research.google.com/assets/colab-badge.svg\" alt=\"Open In Colab\"/></a>"
      ]
    },
    {
      "cell_type": "markdown",
      "source": [
        "## Prepare data"
      ],
      "metadata": {
        "id": "FpYaaMsBWu2d"
      }
    },
    {
      "cell_type": "code",
      "execution_count": null,
      "metadata": {
        "id": "Mckkn5AO5TRQ"
      },
      "outputs": [],
      "source": [
        "from pathlib import Path"
      ]
    },
    {
      "cell_type": "code",
      "source": [
        "from google.colab import drive\n",
        "drive.mount('/content/gdrive/')"
      ],
      "metadata": {
        "colab": {
          "base_uri": "https://localhost:8080/"
        },
        "id": "791aq4ga50KU",
        "outputId": "79d5cdd6-2c93-43ad-8412-9f7dfd0af79e"
      },
      "execution_count": null,
      "outputs": [
        {
          "output_type": "stream",
          "name": "stdout",
          "text": [
            "Mounted at /content/gdrive/\n"
          ]
        }
      ]
    },
    {
      "cell_type": "code",
      "source": [
        "from google.colab.patches import cv2_imshow # cv2_imshow performs convertion BGR2RGB itself"
      ],
      "metadata": {
        "id": "B9mzmYoK55YZ"
      },
      "execution_count": null,
      "outputs": []
    },
    {
      "cell_type": "code",
      "source": [
        "def plot_classification(y_true, y_pred):\n",
        "    target_names = searches\n",
        "    labels_names = [0, 1] \n",
        "    print(classification_report(y_true, y_pred,labels=labels_names, target_names=target_names))    \n",
        "    cm = confusion_matrix(y_true, y_pred,labels=labels_names)  #, normalize='true'\n",
        "    disp = ConfusionMatrixDisplay(confusion_matrix=cm,display_labels=target_names)\n",
        "    disp = disp.plot(cmap=plt.cm.Blues,values_format='g')\n",
        "    plt.show()\n",
        "\n",
        "\n",
        "def plot_history(history):\n",
        "    acc = history.history['accuracy']\n",
        "    val_acc = history.history['val_accuracy']\n",
        "\n",
        "    loss = history.history['loss']\n",
        "    val_loss = history.history['val_loss']\n",
        "\n",
        "    plt.figure(figsize=(8, 8))\n",
        "    plt.subplot(2, 1, 1)\n",
        "    plt.plot(acc, label='Training Accuracy')\n",
        "    plt.plot(val_acc, label='Validation Accuracy')\n",
        "    plt.ylim([0.5, 1])\n",
        "    plt.legend(loc='lower right')\n",
        "    plt.title('Training and Validation Accuracy')\n",
        "\n",
        "    plt.subplot(2, 1, 2)\n",
        "    plt.plot(loss, label='Training Loss')\n",
        "    plt.plot(val_loss, label='Validation Loss')\n",
        "    plt.ylim([0, 1.0])\n",
        "    plt.legend(loc='upper right')\n",
        "    plt.title('Training and Validation Loss')\n",
        "    plt.xlabel('epoch')\n",
        "    plt.show()"
      ],
      "metadata": {
        "id": "5-GV-BJJ573F"
      },
      "execution_count": null,
      "outputs": []
    },
    {
      "cell_type": "code",
      "source": [
        "searches = 'like', 'unlike'\n",
        "data_dir = Path('/content/gdrive/My Drive/tinder')"
      ],
      "metadata": {
        "id": "GRsgKu0t5_R5"
      },
      "execution_count": null,
      "outputs": []
    },
    {
      "cell_type": "code",
      "source": [
        "import tensorflow as tf\n",
        "tf.config.list_physical_devices('GPU')"
      ],
      "metadata": {
        "colab": {
          "base_uri": "https://localhost:8080/"
        },
        "id": "kagHnVty6J9V",
        "outputId": "79fab3d1-5c3e-4ce9-91c0-36594a9e5223"
      },
      "execution_count": null,
      "outputs": [
        {
          "output_type": "execute_result",
          "data": {
            "text/plain": [
              "[PhysicalDevice(name='/physical_device:GPU:0', device_type='GPU')]"
            ]
          },
          "metadata": {},
          "execution_count": 6
        }
      ]
    },
    {
      "cell_type": "code",
      "source": [
        "from tensorflow.keras.callbacks import EarlyStopping"
      ],
      "metadata": {
        "id": "JdpbcgkE6NWD"
      },
      "execution_count": null,
      "outputs": []
    },
    {
      "cell_type": "code",
      "source": [
        "import matplotlib.pyplot as plt\n",
        "import numpy as np\n",
        "import os\n",
        "import PIL\n",
        "import PIL.Image"
      ],
      "metadata": {
        "id": "BTI43m0u6OnJ"
      },
      "execution_count": null,
      "outputs": []
    },
    {
      "cell_type": "code",
      "source": [
        "image_count = len(list(data_dir.glob('*/*.png')))\n",
        "print(image_count)"
      ],
      "metadata": {
        "colab": {
          "base_uri": "https://localhost:8080/"
        },
        "id": "-TW_2UtV6Qbu",
        "outputId": "67c7e92d-db73-4d11-ac04-8b186fe7b8f8"
      },
      "execution_count": null,
      "outputs": [
        {
          "output_type": "stream",
          "name": "stdout",
          "text": [
            "1000\n"
          ]
        }
      ]
    },
    {
      "cell_type": "code",
      "source": [
        "IMG_SIZE = (128, 128)"
      ],
      "metadata": {
        "id": "NI6zFFkg61aI"
      },
      "execution_count": null,
      "outputs": []
    },
    {
      "cell_type": "code",
      "source": [
        "# like = list(data_dir.glob('like/*'))\n",
        "# im = PIL.Image.open(str(like[173]))\n",
        "# im.resize(IMG_SIZE)"
      ],
      "metadata": {
        "id": "yiAW0JLd62b7"
      },
      "execution_count": null,
      "outputs": []
    },
    {
      "cell_type": "code",
      "source": [
        "BATCH_SIZE = 64\n",
        "\n",
        "train_ds = tf.keras.utils.image_dataset_from_directory(\n",
        "    data_dir,\n",
        "    validation_split=0.25,\n",
        "    subset=\"training\",\n",
        "    seed=123,\n",
        "    batch_size=BATCH_SIZE,\n",
        "    image_size=IMG_SIZE)\n",
        "\n",
        "val_ds = tf.keras.utils.image_dataset_from_directory(\n",
        "    data_dir,\n",
        "    validation_split=0.2,\n",
        "    subset=\"validation\",\n",
        "    seed=123,\n",
        "    batch_size=BATCH_SIZE,\n",
        "    image_size=IMG_SIZE)\n",
        "\n",
        "test_dataset = val_ds.take(2)\n",
        "val_ds = val_ds.skip(2)\n",
        "\n",
        "print('Batches for testing -->', test_dataset.cardinality())\n",
        "print('Batches for validating -->', val_ds.cardinality())"
      ],
      "metadata": {
        "colab": {
          "base_uri": "https://localhost:8080/"
        },
        "id": "JyxCkpfIW6Et",
        "outputId": "4a71c663-57a2-4d2b-925c-1774e22f15fb"
      },
      "execution_count": null,
      "outputs": [
        {
          "output_type": "stream",
          "name": "stdout",
          "text": [
            "Found 1000 files belonging to 2 classes.\n",
            "Using 750 files for training.\n",
            "Found 1000 files belonging to 2 classes.\n",
            "Using 200 files for validation.\n",
            "Batches for testing --> tf.Tensor(2, shape=(), dtype=int64)\n",
            "Batches for validating --> tf.Tensor(2, shape=(), dtype=int64)\n"
          ]
        }
      ]
    },
    {
      "cell_type": "code",
      "source": [
        "class_names = train_ds.class_names\n",
        "print(class_names)"
      ],
      "metadata": {
        "colab": {
          "base_uri": "https://localhost:8080/"
        },
        "id": "LDZeIeNQXrDk",
        "outputId": "df82d9ca-84b9-429e-c54b-17a3f7ad8844"
      },
      "execution_count": null,
      "outputs": [
        {
          "output_type": "stream",
          "name": "stdout",
          "text": [
            "['like', 'unlike']\n"
          ]
        }
      ]
    },
    {
      "cell_type": "code",
      "source": [
        "# plt.figure(figsize=(10, 10))\n",
        "# for images, labels in train_ds.take(1):\n",
        "#   for i in range(9):\n",
        "#     ax = plt.subplot(3, 3, i + 1)\n",
        "#     plt.imshow(images[i].numpy().astype(\"uint8\"))\n",
        "#     plt.title(class_names[labels[i]])\n",
        "#     plt.axis(\"off\")"
      ],
      "metadata": {
        "id": "RbwSI5r4Xtlo"
      },
      "execution_count": null,
      "outputs": []
    },
    {
      "cell_type": "markdown",
      "source": [
        "#### Data normalization"
      ],
      "metadata": {
        "id": "nu3y87CR0tCp"
      }
    },
    {
      "cell_type": "code",
      "source": [
        "normalization_layer = tf.keras.layers.Rescaling(1./255)"
      ],
      "metadata": {
        "id": "qZ02WWS5ZxFC"
      },
      "execution_count": null,
      "outputs": []
    },
    {
      "cell_type": "markdown",
      "source": [
        "### Configure the dataset for performance\n",
        "\n"
      ],
      "metadata": {
        "id": "PIUWXUuPZ83Q"
      }
    },
    {
      "cell_type": "code",
      "source": [
        "AUTOTUNE = tf.data.AUTOTUNE\n",
        "\n",
        "train_ds = train_ds.cache().prefetch(buffer_size=AUTOTUNE)\n",
        "val_ds = val_ds.cache().prefetch(buffer_size=AUTOTUNE)\n",
        "test_dataset = test_dataset.cache().prefetch(buffer_size=AUTOTUNE)"
      ],
      "metadata": {
        "id": "gYyjtFsXaB8g"
      },
      "execution_count": null,
      "outputs": []
    },
    {
      "cell_type": "markdown",
      "source": [
        "#### Data augmentation"
      ],
      "metadata": {
        "id": "kVhquVY-08Rv"
      }
    },
    {
      "cell_type": "code",
      "source": [
        "data_augmentation = tf.keras.Sequential([\n",
        "  tf.keras.layers.RandomFlip('horizontal'),\n",
        "  tf.keras.layers.RandomRotation(0.1),\n",
        "  tf.keras.layers.RandomZoom(0.1, 0.2)\n",
        "])"
      ],
      "metadata": {
        "id": "8i0juceDffdQ"
      },
      "execution_count": null,
      "outputs": []
    },
    {
      "cell_type": "markdown",
      "source": [
        "### Create the base model from the pre-trained convnets"
      ],
      "metadata": {
        "id": "Zv78pl_iaOFK"
      }
    },
    {
      "cell_type": "code",
      "source": [
        "# Create the base model from the pre-trained model MobileNet V2\n",
        "IMG_SHAPE = IMG_SIZE + (3,)\n",
        "\n",
        "early_stopping_monitor = EarlyStopping(patience=100, restore_best_weights=True)\n",
        "\n",
        "total_epochs = 100"
      ],
      "metadata": {
        "id": "qaphJVk6aaw4"
      },
      "execution_count": null,
      "outputs": []
    },
    {
      "cell_type": "code",
      "source": [
        "def create_model():\n",
        "    base_model = tf.keras.applications.MobileNetV2(input_shape=IMG_SHAPE,\n",
        "                                                include_top=False,\n",
        "                                                weights='imagenet')\n",
        "\n",
        "    base_model.trainable = True\n",
        "\n",
        "    # Let's take a look to see how many layers are in the base model\n",
        "    print(\"Number of layers in the base model: \", len(base_model.layers))\n",
        "\n",
        "    # Fine-tune from this layer onwards\n",
        "    fine_tune_at = 140\n",
        "\n",
        "    # Freeze all the layers before the `fine_tune_at` layer\n",
        "    for layer in base_model.layers[:fine_tune_at]:\n",
        "        layer.trainable = False\n",
        "    \n",
        "    # # Add a classification head\n",
        "    # image_batch, label_batch = next(iter(train_ds))\n",
        "    # feature_batch = base_model(image_batch)\n",
        "\n",
        "    global_average_layer = tf.keras.layers.GlobalAveragePooling2D()\n",
        "    # feature_batch_average = global_average_layer(feature_batch)\n",
        "\n",
        "    prediction_layer = tf.keras.layers.Dense(1)\n",
        "    # prediction_batch = prediction_layer(feature_batch_average)\n",
        "    # print(prediction_batch.shape)\n",
        "\n",
        "    inputs = tf.keras.Input(shape=IMG_SHAPE)\n",
        "    x = data_augmentation(inputs)\n",
        "    x = normalization_layer(x)\n",
        "    x = base_model(x, training=False)\n",
        "    x = global_average_layer(x)\n",
        "    x = tf.keras.layers.Dropout(0.25)(x)\n",
        "    outputs = prediction_layer(x)\n",
        "    model = tf.keras.Model(inputs, outputs)\n",
        "\n",
        "    base_learning_rate = 0.0001\n",
        "\n",
        "    model.compile(loss=tf.keras.losses.BinaryCrossentropy(from_logits=True),\n",
        "                optimizer = tf.keras.optimizers.RMSprop(learning_rate=base_learning_rate/20),\n",
        "                metrics=['accuracy'])\n",
        "\n",
        "    return model"
      ],
      "metadata": {
        "id": "K7nN9ZpCacZI"
      },
      "execution_count": null,
      "outputs": []
    },
    {
      "cell_type": "code",
      "source": [
        "model = create_model()\n",
        "\n",
        "model.summary()"
      ],
      "metadata": {
        "colab": {
          "base_uri": "https://localhost:8080/"
        },
        "id": "k8tHL4uTalfT",
        "outputId": "4d0c07e3-b07b-43af-b045-bc7a1305a599"
      },
      "execution_count": null,
      "outputs": [
        {
          "output_type": "stream",
          "name": "stdout",
          "text": [
            "Number of layers in the base model:  154\n",
            "Model: \"model_11\"\n",
            "_________________________________________________________________\n",
            " Layer (type)                Output Shape              Param #   \n",
            "=================================================================\n",
            " input_24 (InputLayer)       [(None, 128, 128, 3)]     0         \n",
            "                                                                 \n",
            " sequential (Sequential)     (None, 128, 128, 3)       0         \n",
            "                                                                 \n",
            " rescaling (Rescaling)       (None, 128, 128, 3)       0         \n",
            "                                                                 \n",
            " mobilenetv2_1.00_128 (Funct  (None, 4, 4, 1280)       2257984   \n",
            " ional)                                                          \n",
            "                                                                 \n",
            " global_average_pooling2d_11  (None, 1280)             0         \n",
            "  (GlobalAveragePooling2D)                                       \n",
            "                                                                 \n",
            " dropout_11 (Dropout)        (None, 1280)              0         \n",
            "                                                                 \n",
            " dense_11 (Dense)            (None, 1)                 1281      \n",
            "                                                                 \n",
            "=================================================================\n",
            "Total params: 2,259,265\n",
            "Trainable params: 1,041,281\n",
            "Non-trainable params: 1,217,984\n",
            "_________________________________________________________________\n"
          ]
        }
      ]
    },
    {
      "cell_type": "code",
      "source": [
        "history = model.fit(train_ds, epochs=total_epochs, verbose=True, \n",
        "                    validation_data=val_ds, callbacks = [early_stopping_monitor])"
      ],
      "metadata": {
        "colab": {
          "base_uri": "https://localhost:8080/"
        },
        "id": "4B4O1U36atjP",
        "outputId": "68a0a150-fcb5-4cb9-b534-9fbde3585da4"
      },
      "execution_count": null,
      "outputs": [
        {
          "output_type": "stream",
          "name": "stdout",
          "text": [
            "Epoch 1/100\n",
            "12/12 [==============================] - 5s 121ms/step - loss: 0.8534 - accuracy: 0.5187 - val_loss: 0.8208 - val_accuracy: 0.4583\n",
            "Epoch 2/100\n",
            "12/12 [==============================] - 1s 52ms/step - loss: 0.7873 - accuracy: 0.5160 - val_loss: 0.8006 - val_accuracy: 0.4861\n",
            "Epoch 3/100\n",
            "12/12 [==============================] - 1s 44ms/step - loss: 0.7772 - accuracy: 0.5067 - val_loss: 0.7789 - val_accuracy: 0.5556\n",
            "Epoch 4/100\n",
            "12/12 [==============================] - 1s 44ms/step - loss: 0.7480 - accuracy: 0.5333 - val_loss: 0.7676 - val_accuracy: 0.5417\n",
            "Epoch 5/100\n",
            "12/12 [==============================] - 1s 45ms/step - loss: 0.7348 - accuracy: 0.5373 - val_loss: 0.7579 - val_accuracy: 0.5556\n",
            "Epoch 6/100\n",
            "12/12 [==============================] - 1s 44ms/step - loss: 0.7479 - accuracy: 0.5200 - val_loss: 0.7470 - val_accuracy: 0.5694\n",
            "Epoch 7/100\n",
            "12/12 [==============================] - 1s 44ms/step - loss: 0.7171 - accuracy: 0.5440 - val_loss: 0.7432 - val_accuracy: 0.5833\n",
            "Epoch 8/100\n",
            "12/12 [==============================] - 1s 44ms/step - loss: 0.6870 - accuracy: 0.5773 - val_loss: 0.7344 - val_accuracy: 0.5694\n",
            "Epoch 9/100\n",
            "12/12 [==============================] - 1s 44ms/step - loss: 0.6969 - accuracy: 0.5680 - val_loss: 0.7311 - val_accuracy: 0.5694\n",
            "Epoch 10/100\n",
            "12/12 [==============================] - 1s 44ms/step - loss: 0.6811 - accuracy: 0.5573 - val_loss: 0.7205 - val_accuracy: 0.5694\n",
            "Epoch 11/100\n",
            "12/12 [==============================] - 1s 44ms/step - loss: 0.6813 - accuracy: 0.5653 - val_loss: 0.7205 - val_accuracy: 0.5694\n",
            "Epoch 12/100\n",
            "12/12 [==============================] - 1s 45ms/step - loss: 0.6613 - accuracy: 0.5880 - val_loss: 0.7150 - val_accuracy: 0.5694\n",
            "Epoch 13/100\n",
            "12/12 [==============================] - 1s 44ms/step - loss: 0.6573 - accuracy: 0.5747 - val_loss: 0.7096 - val_accuracy: 0.5972\n",
            "Epoch 14/100\n",
            "12/12 [==============================] - 1s 46ms/step - loss: 0.6573 - accuracy: 0.5973 - val_loss: 0.7014 - val_accuracy: 0.5972\n",
            "Epoch 15/100\n",
            "12/12 [==============================] - 0s 38ms/step - loss: 0.6452 - accuracy: 0.5773 - val_loss: 0.7046 - val_accuracy: 0.6111\n",
            "Epoch 16/100\n",
            "12/12 [==============================] - 0s 39ms/step - loss: 0.6427 - accuracy: 0.6187 - val_loss: 0.7022 - val_accuracy: 0.6111\n",
            "Epoch 17/100\n",
            "12/12 [==============================] - 0s 39ms/step - loss: 0.6620 - accuracy: 0.5920 - val_loss: 0.7028 - val_accuracy: 0.6111\n",
            "Epoch 18/100\n",
            "12/12 [==============================] - 1s 45ms/step - loss: 0.6414 - accuracy: 0.6080 - val_loss: 0.7000 - val_accuracy: 0.5972\n",
            "Epoch 19/100\n",
            "12/12 [==============================] - 1s 45ms/step - loss: 0.6335 - accuracy: 0.6160 - val_loss: 0.6984 - val_accuracy: 0.5972\n",
            "Epoch 20/100\n",
            "12/12 [==============================] - 1s 45ms/step - loss: 0.6276 - accuracy: 0.6400 - val_loss: 0.6910 - val_accuracy: 0.5833\n",
            "Epoch 21/100\n",
            "12/12 [==============================] - 0s 39ms/step - loss: 0.6262 - accuracy: 0.6107 - val_loss: 0.7011 - val_accuracy: 0.5972\n",
            "Epoch 22/100\n",
            "12/12 [==============================] - 0s 39ms/step - loss: 0.6345 - accuracy: 0.6067 - val_loss: 0.7006 - val_accuracy: 0.5972\n",
            "Epoch 23/100\n",
            "12/12 [==============================] - 0s 39ms/step - loss: 0.6290 - accuracy: 0.6173 - val_loss: 0.6987 - val_accuracy: 0.5972\n",
            "Epoch 24/100\n",
            "12/12 [==============================] - 0s 39ms/step - loss: 0.6079 - accuracy: 0.6547 - val_loss: 0.7023 - val_accuracy: 0.5833\n",
            "Epoch 25/100\n",
            "12/12 [==============================] - 1s 45ms/step - loss: 0.6192 - accuracy: 0.6173 - val_loss: 0.6908 - val_accuracy: 0.5972\n",
            "Epoch 26/100\n",
            "12/12 [==============================] - 1s 45ms/step - loss: 0.6091 - accuracy: 0.6440 - val_loss: 0.6833 - val_accuracy: 0.5833\n",
            "Epoch 27/100\n",
            "12/12 [==============================] - 0s 39ms/step - loss: 0.5996 - accuracy: 0.6547 - val_loss: 0.6956 - val_accuracy: 0.5833\n",
            "Epoch 28/100\n",
            "12/12 [==============================] - 0s 39ms/step - loss: 0.6108 - accuracy: 0.6467 - val_loss: 0.6878 - val_accuracy: 0.5972\n",
            "Epoch 29/100\n",
            "12/12 [==============================] - 1s 45ms/step - loss: 0.6200 - accuracy: 0.6147 - val_loss: 0.6819 - val_accuracy: 0.6111\n",
            "Epoch 30/100\n",
            "12/12 [==============================] - 1s 45ms/step - loss: 0.6040 - accuracy: 0.6333 - val_loss: 0.6801 - val_accuracy: 0.6111\n",
            "Epoch 31/100\n",
            "12/12 [==============================] - 0s 39ms/step - loss: 0.5971 - accuracy: 0.6507 - val_loss: 0.6854 - val_accuracy: 0.6111\n",
            "Epoch 32/100\n",
            "12/12 [==============================] - 0s 39ms/step - loss: 0.5902 - accuracy: 0.6440 - val_loss: 0.6845 - val_accuracy: 0.6250\n",
            "Epoch 33/100\n",
            "12/12 [==============================] - 0s 40ms/step - loss: 0.6100 - accuracy: 0.6467 - val_loss: 0.6843 - val_accuracy: 0.6250\n",
            "Epoch 34/100\n",
            "12/12 [==============================] - 0s 39ms/step - loss: 0.5954 - accuracy: 0.6640 - val_loss: 0.6835 - val_accuracy: 0.6250\n",
            "Epoch 35/100\n",
            "12/12 [==============================] - 1s 45ms/step - loss: 0.5939 - accuracy: 0.6320 - val_loss: 0.6790 - val_accuracy: 0.6250\n",
            "Epoch 36/100\n",
            "12/12 [==============================] - 0s 40ms/step - loss: 0.5859 - accuracy: 0.6653 - val_loss: 0.6860 - val_accuracy: 0.6111\n",
            "Epoch 37/100\n",
            "12/12 [==============================] - 0s 40ms/step - loss: 0.6034 - accuracy: 0.6347 - val_loss: 0.6854 - val_accuracy: 0.6111\n",
            "Epoch 38/100\n",
            "12/12 [==============================] - 0s 40ms/step - loss: 0.5754 - accuracy: 0.6667 - val_loss: 0.6791 - val_accuracy: 0.6111\n",
            "Epoch 39/100\n",
            "12/12 [==============================] - 1s 45ms/step - loss: 0.5915 - accuracy: 0.6427 - val_loss: 0.6779 - val_accuracy: 0.6528\n",
            "Epoch 40/100\n",
            "12/12 [==============================] - 0s 40ms/step - loss: 0.5702 - accuracy: 0.6680 - val_loss: 0.6806 - val_accuracy: 0.6528\n",
            "Epoch 41/100\n",
            "12/12 [==============================] - 1s 45ms/step - loss: 0.5623 - accuracy: 0.6693 - val_loss: 0.6764 - val_accuracy: 0.6250\n",
            "Epoch 42/100\n",
            "12/12 [==============================] - 1s 46ms/step - loss: 0.5752 - accuracy: 0.6733 - val_loss: 0.6758 - val_accuracy: 0.6250\n",
            "Epoch 43/100\n",
            "12/12 [==============================] - 0s 39ms/step - loss: 0.5797 - accuracy: 0.6733 - val_loss: 0.6766 - val_accuracy: 0.6250\n",
            "Epoch 44/100\n",
            "12/12 [==============================] - 1s 45ms/step - loss: 0.5823 - accuracy: 0.6667 - val_loss: 0.6737 - val_accuracy: 0.6528\n",
            "Epoch 45/100\n",
            "12/12 [==============================] - 1s 46ms/step - loss: 0.5700 - accuracy: 0.6867 - val_loss: 0.6736 - val_accuracy: 0.6389\n",
            "Epoch 46/100\n",
            "12/12 [==============================] - 1s 45ms/step - loss: 0.5694 - accuracy: 0.6813 - val_loss: 0.6730 - val_accuracy: 0.6389\n",
            "Epoch 47/100\n",
            "12/12 [==============================] - 0s 39ms/step - loss: 0.5644 - accuracy: 0.6627 - val_loss: 0.6768 - val_accuracy: 0.6528\n",
            "Epoch 48/100\n",
            "12/12 [==============================] - 1s 45ms/step - loss: 0.5570 - accuracy: 0.6653 - val_loss: 0.6698 - val_accuracy: 0.6389\n",
            "Epoch 49/100\n",
            "12/12 [==============================] - 0s 39ms/step - loss: 0.5511 - accuracy: 0.6907 - val_loss: 0.6743 - val_accuracy: 0.6389\n",
            "Epoch 50/100\n",
            "12/12 [==============================] - 0s 40ms/step - loss: 0.5468 - accuracy: 0.6880 - val_loss: 0.6701 - val_accuracy: 0.6250\n",
            "Epoch 51/100\n",
            "12/12 [==============================] - 0s 39ms/step - loss: 0.5720 - accuracy: 0.6693 - val_loss: 0.6722 - val_accuracy: 0.6389\n",
            "Epoch 52/100\n",
            "12/12 [==============================] - 1s 45ms/step - loss: 0.5599 - accuracy: 0.6840 - val_loss: 0.6693 - val_accuracy: 0.6389\n",
            "Epoch 53/100\n",
            "12/12 [==============================] - 0s 40ms/step - loss: 0.5535 - accuracy: 0.6960 - val_loss: 0.6746 - val_accuracy: 0.6389\n",
            "Epoch 54/100\n",
            "12/12 [==============================] - 0s 39ms/step - loss: 0.5465 - accuracy: 0.6813 - val_loss: 0.6764 - val_accuracy: 0.6667\n",
            "Epoch 55/100\n",
            "12/12 [==============================] - 0s 42ms/step - loss: 0.5393 - accuracy: 0.7067 - val_loss: 0.6799 - val_accuracy: 0.6667\n",
            "Epoch 56/100\n",
            "12/12 [==============================] - 0s 39ms/step - loss: 0.5463 - accuracy: 0.7067 - val_loss: 0.6744 - val_accuracy: 0.6250\n",
            "Epoch 57/100\n",
            "12/12 [==============================] - 1s 45ms/step - loss: 0.5518 - accuracy: 0.6840 - val_loss: 0.6671 - val_accuracy: 0.6250\n",
            "Epoch 58/100\n",
            "12/12 [==============================] - 1s 45ms/step - loss: 0.5421 - accuracy: 0.7013 - val_loss: 0.6668 - val_accuracy: 0.6250\n",
            "Epoch 59/100\n",
            "12/12 [==============================] - 0s 40ms/step - loss: 0.5226 - accuracy: 0.7320 - val_loss: 0.6747 - val_accuracy: 0.6389\n",
            "Epoch 60/100\n",
            "12/12 [==============================] - 0s 39ms/step - loss: 0.5387 - accuracy: 0.7040 - val_loss: 0.6692 - val_accuracy: 0.6250\n",
            "Epoch 61/100\n",
            "12/12 [==============================] - 0s 39ms/step - loss: 0.5331 - accuracy: 0.7040 - val_loss: 0.6699 - val_accuracy: 0.6250\n",
            "Epoch 62/100\n",
            "12/12 [==============================] - 0s 39ms/step - loss: 0.5426 - accuracy: 0.6960 - val_loss: 0.6764 - val_accuracy: 0.6389\n",
            "Epoch 63/100\n",
            "12/12 [==============================] - 0s 40ms/step - loss: 0.5302 - accuracy: 0.7120 - val_loss: 0.6712 - val_accuracy: 0.6250\n",
            "Epoch 64/100\n",
            "12/12 [==============================] - 0s 40ms/step - loss: 0.5315 - accuracy: 0.7213 - val_loss: 0.6767 - val_accuracy: 0.6528\n",
            "Epoch 65/100\n",
            "12/12 [==============================] - 0s 40ms/step - loss: 0.5229 - accuracy: 0.7200 - val_loss: 0.6675 - val_accuracy: 0.6389\n",
            "Epoch 66/100\n",
            "12/12 [==============================] - 0s 40ms/step - loss: 0.5293 - accuracy: 0.7013 - val_loss: 0.6679 - val_accuracy: 0.6250\n",
            "Epoch 67/100\n",
            "12/12 [==============================] - 0s 39ms/step - loss: 0.5209 - accuracy: 0.7093 - val_loss: 0.6738 - val_accuracy: 0.6250\n",
            "Epoch 68/100\n",
            "12/12 [==============================] - 0s 39ms/step - loss: 0.5305 - accuracy: 0.6987 - val_loss: 0.6776 - val_accuracy: 0.6250\n",
            "Epoch 69/100\n",
            "12/12 [==============================] - 0s 40ms/step - loss: 0.5203 - accuracy: 0.7160 - val_loss: 0.6689 - val_accuracy: 0.6389\n",
            "Epoch 70/100\n",
            "12/12 [==============================] - 0s 39ms/step - loss: 0.5168 - accuracy: 0.7173 - val_loss: 0.6719 - val_accuracy: 0.6528\n",
            "Epoch 71/100\n",
            "12/12 [==============================] - 0s 40ms/step - loss: 0.5150 - accuracy: 0.7227 - val_loss: 0.6711 - val_accuracy: 0.6528\n",
            "Epoch 72/100\n",
            "12/12 [==============================] - 0s 39ms/step - loss: 0.5174 - accuracy: 0.7280 - val_loss: 0.6686 - val_accuracy: 0.6528\n",
            "Epoch 73/100\n",
            "12/12 [==============================] - 0s 39ms/step - loss: 0.5189 - accuracy: 0.7267 - val_loss: 0.6698 - val_accuracy: 0.6667\n",
            "Epoch 74/100\n",
            "12/12 [==============================] - 0s 41ms/step - loss: 0.5108 - accuracy: 0.7213 - val_loss: 0.6710 - val_accuracy: 0.6528\n",
            "Epoch 75/100\n",
            "12/12 [==============================] - 0s 40ms/step - loss: 0.4928 - accuracy: 0.7413 - val_loss: 0.6720 - val_accuracy: 0.6528\n",
            "Epoch 76/100\n",
            "12/12 [==============================] - 0s 40ms/step - loss: 0.5117 - accuracy: 0.7227 - val_loss: 0.6673 - val_accuracy: 0.6389\n",
            "Epoch 77/100\n",
            "12/12 [==============================] - 1s 45ms/step - loss: 0.5227 - accuracy: 0.7280 - val_loss: 0.6668 - val_accuracy: 0.6528\n",
            "Epoch 78/100\n",
            "12/12 [==============================] - 1s 45ms/step - loss: 0.4965 - accuracy: 0.7267 - val_loss: 0.6635 - val_accuracy: 0.6528\n",
            "Epoch 79/100\n",
            "12/12 [==============================] - 0s 40ms/step - loss: 0.4887 - accuracy: 0.7267 - val_loss: 0.6720 - val_accuracy: 0.6528\n",
            "Epoch 80/100\n",
            "12/12 [==============================] - 0s 39ms/step - loss: 0.4938 - accuracy: 0.7413 - val_loss: 0.6715 - val_accuracy: 0.6528\n",
            "Epoch 81/100\n",
            "12/12 [==============================] - 0s 39ms/step - loss: 0.4975 - accuracy: 0.7387 - val_loss: 0.6695 - val_accuracy: 0.6667\n",
            "Epoch 82/100\n",
            "12/12 [==============================] - 0s 39ms/step - loss: 0.4981 - accuracy: 0.7427 - val_loss: 0.6709 - val_accuracy: 0.6528\n",
            "Epoch 83/100\n",
            "12/12 [==============================] - 0s 40ms/step - loss: 0.5082 - accuracy: 0.7320 - val_loss: 0.6689 - val_accuracy: 0.6667\n",
            "Epoch 84/100\n",
            "12/12 [==============================] - 0s 39ms/step - loss: 0.4974 - accuracy: 0.7280 - val_loss: 0.6706 - val_accuracy: 0.6528\n",
            "Epoch 85/100\n",
            "12/12 [==============================] - 0s 40ms/step - loss: 0.4916 - accuracy: 0.7387 - val_loss: 0.6695 - val_accuracy: 0.6528\n",
            "Epoch 86/100\n",
            "12/12 [==============================] - 0s 40ms/step - loss: 0.4786 - accuracy: 0.7493 - val_loss: 0.6680 - val_accuracy: 0.6806\n",
            "Epoch 87/100\n",
            "12/12 [==============================] - 1s 43ms/step - loss: 0.4903 - accuracy: 0.7427 - val_loss: 0.6664 - val_accuracy: 0.6667\n",
            "Epoch 88/100\n",
            "12/12 [==============================] - 0s 39ms/step - loss: 0.4911 - accuracy: 0.7413 - val_loss: 0.6647 - val_accuracy: 0.6667\n",
            "Epoch 89/100\n",
            "12/12 [==============================] - 0s 40ms/step - loss: 0.4810 - accuracy: 0.7360 - val_loss: 0.6696 - val_accuracy: 0.6667\n",
            "Epoch 90/100\n",
            "12/12 [==============================] - 0s 40ms/step - loss: 0.5069 - accuracy: 0.7320 - val_loss: 0.6697 - val_accuracy: 0.6667\n",
            "Epoch 91/100\n",
            "12/12 [==============================] - 0s 39ms/step - loss: 0.4901 - accuracy: 0.7373 - val_loss: 0.6730 - val_accuracy: 0.6528\n",
            "Epoch 92/100\n",
            "12/12 [==============================] - 0s 40ms/step - loss: 0.4973 - accuracy: 0.7373 - val_loss: 0.6739 - val_accuracy: 0.6250\n",
            "Epoch 93/100\n",
            "12/12 [==============================] - 0s 39ms/step - loss: 0.4702 - accuracy: 0.7507 - val_loss: 0.6749 - val_accuracy: 0.6389\n",
            "Epoch 94/100\n",
            "12/12 [==============================] - 0s 40ms/step - loss: 0.4753 - accuracy: 0.7533 - val_loss: 0.6748 - val_accuracy: 0.6528\n",
            "Epoch 95/100\n",
            "12/12 [==============================] - 0s 39ms/step - loss: 0.5076 - accuracy: 0.7147 - val_loss: 0.6684 - val_accuracy: 0.6667\n",
            "Epoch 96/100\n",
            "12/12 [==============================] - 0s 40ms/step - loss: 0.4657 - accuracy: 0.7413 - val_loss: 0.6640 - val_accuracy: 0.6667\n",
            "Epoch 97/100\n",
            "12/12 [==============================] - 0s 39ms/step - loss: 0.4747 - accuracy: 0.7440 - val_loss: 0.6678 - val_accuracy: 0.6528\n",
            "Epoch 98/100\n",
            "12/12 [==============================] - 0s 39ms/step - loss: 0.4652 - accuracy: 0.7493 - val_loss: 0.6651 - val_accuracy: 0.6528\n",
            "Epoch 99/100\n",
            "12/12 [==============================] - 0s 39ms/step - loss: 0.4616 - accuracy: 0.7573 - val_loss: 0.6666 - val_accuracy: 0.6667\n",
            "Epoch 100/100\n",
            "12/12 [==============================] - 1s 45ms/step - loss: 0.4721 - accuracy: 0.7560 - val_loss: 0.6576 - val_accuracy: 0.6528\n"
          ]
        }
      ]
    },
    {
      "cell_type": "code",
      "source": [
        "plot_history(history)"
      ],
      "metadata": {
        "colab": {
          "base_uri": "https://localhost:8080/",
          "height": 513
        },
        "id": "zCkRHHY6cBWl",
        "outputId": "fe7474a7-5582-4d20-d5a0-3e83ae2d42ab"
      },
      "execution_count": null,
      "outputs": [
        {
          "output_type": "display_data",
          "data": {
            "text/plain": [
              "<Figure size 576x576 with 2 Axes>"
            ],
            "image/png": "[encoded data removed]"
          },
          "metadata": {
            "needs_background": "light"
          }
        }
      ]
    },
    {
      "cell_type": "code",
      "source": [
        "# Save keras model in Keras H5 format. \n",
        "model_path = 'my_model.h5'\n",
        "model.save(model_path)"
      ],
      "metadata": {
        "id": "jCLaUBjjmDGz"
      },
      "execution_count": null,
      "outputs": []
    },
    {
      "cell_type": "code",
      "source": [
        "# Load keras model\n",
        "model_path = 'my_model.h5'\n",
        "model = tf.keras.models.load_model(model_path)"
      ],
      "metadata": {
        "id": "uSNp8SCPmFYV"
      },
      "execution_count": null,
      "outputs": []
    }
  ]
}