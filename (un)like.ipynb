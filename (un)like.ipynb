{
  "nbformat": 4,
  "nbformat_minor": 0,
  "metadata": {
    "colab": {
      "name": "(un)like.ipynb",
      "provenance": [],
      "collapsed_sections": [],
      "authorship_tag": "ABX9TyNf97f9YrFCBmzeO53+OqzI",
      "include_colab_link": true
    },
    "kernelspec": {
      "name": "python3",
      "display_name": "Python 3"
    },
    "language_info": {
      "name": "python"
    },
    "accelerator": "GPU"
  },
  "cells": [
    {
      "cell_type": "markdown",
      "metadata": {
        "id": "view-in-github",
        "colab_type": "text"
      },
      "source": [
        "<a href=\"https://colab.research.google.com/github/sarunas856/final_project/blob/main/(un)like.ipynb\" target=\"_parent\"><img src=\"https://colab.research.google.com/assets/colab-badge.svg\" alt=\"Open In Colab\"/></a>"
      ]
    },
    {
      "cell_type": "markdown",
      "source": [
        "# Duomenų rinkinys ir inspiracija"
      ],
      "metadata": {
        "id": "w5qwAno_3gK9"
      }
    },
    {
      "cell_type": "markdown",
      "source": [
        "Duomenų rinkinys buvo sukurtas siekiant nustatyti, ar CNN galima išmokyti suskirstyti moterų nuotraukas į vieną iš dviejų klasių – patinka arba nepatinka. Kitais žodžiais tariant, atlikti moterų patrauklumo klasifikaciją taip, kaip žmogus ją atlieka \"Tinder\" programėje. Iš „Tinder“ programėlės surinkau 1000 moterų nuotraukas iš Lietuvos, kurias naudoju kaip mokymosi vaizdus. Žinoma, tai MANO patinka/nepatinka interpretacija, kuri skirsis nuo to, ką kiti gali laikyti patinkančia/nepatinkančia. Pažymėtina, kad duomenų rinkinys yra privatus dėl BDAR."
      ],
      "metadata": {
        "id": "6euQqjfH1lFL"
      }
    },
    {
      "cell_type": "markdown",
      "source": [
        "## Prepare data"
      ],
      "metadata": {
        "id": "FpYaaMsBWu2d"
      }
    },
    {
      "cell_type": "code",
      "execution_count": null,
      "metadata": {
        "id": "Mckkn5AO5TRQ"
      },
      "outputs": [],
      "source": [
        "from pathlib import Path"
      ]
    },
    {
      "cell_type": "code",
      "source": [
        "from google.colab import drive\n",
        "drive.mount('/content/gdrive/')"
      ],
      "metadata": {
        "colab": {
          "base_uri": "https://localhost:8080/"
        },
        "id": "791aq4ga50KU",
        "outputId": "ba4920a3-3489-43e3-b519-a4c7f1457610"
      },
      "execution_count": null,
      "outputs": [
        {
          "output_type": "stream",
          "name": "stdout",
          "text": [
            "Mounted at /content/gdrive/\n"
          ]
        }
      ]
    },
    {
      "cell_type": "code",
      "source": [
        "from google.colab.patches import cv2_imshow # cv2_imshow performs convertion BGR2RGB itself"
      ],
      "metadata": {
        "id": "B9mzmYoK55YZ"
      },
      "execution_count": null,
      "outputs": []
    },
    {
      "cell_type": "code",
      "source": [
        "def plot_classification(y_true, y_pred):\n",
        "    target_names = searches\n",
        "    labels_names = [0, 1] \n",
        "    print(classification_report(y_true, y_pred,labels=labels_names, target_names=target_names))    \n",
        "    cm = confusion_matrix(y_true, y_pred,labels=labels_names)  #, normalize='true'\n",
        "    disp = ConfusionMatrixDisplay(confusion_matrix=cm,display_labels=target_names)\n",
        "    disp = disp.plot(cmap=plt.cm.Blues,values_format='g')\n",
        "    plt.show()\n",
        "\n",
        "\n",
        "def plot_history(history):\n",
        "    acc = history.history['accuracy']\n",
        "    val_acc = history.history['val_accuracy']\n",
        "\n",
        "    loss = history.history['loss']\n",
        "    val_loss = history.history['val_loss']\n",
        "\n",
        "    plt.figure(figsize=(8, 8))\n",
        "    plt.subplot(2, 1, 1)\n",
        "    plt.plot(acc, label='Training Accuracy')\n",
        "    plt.plot(val_acc, label='Validation Accuracy')\n",
        "    plt.ylim([0.5, 1])\n",
        "    plt.legend(loc='lower right')\n",
        "    plt.title('Training and Validation Accuracy')\n",
        "\n",
        "    plt.subplot(2, 1, 2)\n",
        "    plt.plot(loss, label='Training Loss')\n",
        "    plt.plot(val_loss, label='Validation Loss')\n",
        "    plt.ylim([0, 1.0])\n",
        "    plt.legend(loc='upper right')\n",
        "    plt.title('Training and Validation Loss')\n",
        "    plt.xlabel('epoch')\n",
        "    plt.show()"
      ],
      "metadata": {
        "id": "5-GV-BJJ573F"
      },
      "execution_count": null,
      "outputs": []
    },
    {
      "cell_type": "code",
      "source": [
        "searches = 'like', 'unlike'\n",
        "data_dir = Path('/content/gdrive/My Drive/tinder')"
      ],
      "metadata": {
        "id": "GRsgKu0t5_R5"
      },
      "execution_count": null,
      "outputs": []
    },
    {
      "cell_type": "code",
      "source": [
        "import tensorflow as tf\n",
        "tf.config.list_physical_devices('GPU')"
      ],
      "metadata": {
        "colab": {
          "base_uri": "https://localhost:8080/"
        },
        "id": "kagHnVty6J9V",
        "outputId": "4ca74c67-02c2-4db6-834e-4fb4d39477ee"
      },
      "execution_count": null,
      "outputs": [
        {
          "output_type": "execute_result",
          "data": {
            "text/plain": [
              "[PhysicalDevice(name='/physical_device:GPU:0', device_type='GPU')]"
            ]
          },
          "metadata": {},
          "execution_count": 6
        }
      ]
    },
    {
      "cell_type": "code",
      "source": [
        "from tensorflow.keras.callbacks import EarlyStopping"
      ],
      "metadata": {
        "id": "JdpbcgkE6NWD"
      },
      "execution_count": null,
      "outputs": []
    },
    {
      "cell_type": "code",
      "source": [
        "import matplotlib.pyplot as plt\n",
        "import numpy as np\n",
        "import os\n",
        "import PIL\n",
        "import PIL.Image"
      ],
      "metadata": {
        "id": "BTI43m0u6OnJ"
      },
      "execution_count": null,
      "outputs": []
    },
    {
      "cell_type": "code",
      "source": [
        "image_count = len(list(data_dir.glob('*/*.png')))\n",
        "print(image_count)"
      ],
      "metadata": {
        "colab": {
          "base_uri": "https://localhost:8080/"
        },
        "id": "-TW_2UtV6Qbu",
        "outputId": "e882c3c5-bfe1-4b03-9837-846e52f59fa8"
      },
      "execution_count": null,
      "outputs": [
        {
          "output_type": "stream",
          "name": "stdout",
          "text": [
            "1000\n"
          ]
        }
      ]
    },
    {
      "cell_type": "code",
      "source": [
        "IMG_SIZE = (224, 224)"
      ],
      "metadata": {
        "id": "NI6zFFkg61aI"
      },
      "execution_count": null,
      "outputs": []
    },
    {
      "cell_type": "code",
      "source": [
        "# like = list(data_dir.glob('like/*'))\n",
        "# im = PIL.Image.open(str(like[173]))\n",
        "# im.resize(IMG_SIZE)"
      ],
      "metadata": {
        "id": "yiAW0JLd62b7"
      },
      "execution_count": null,
      "outputs": []
    },
    {
      "cell_type": "code",
      "source": [
        "BATCH_SIZE = 64\n",
        "\n",
        "train_ds = tf.keras.utils.image_dataset_from_directory(\n",
        "    data_dir,\n",
        "    validation_split=0.25,\n",
        "    subset=\"training\",\n",
        "    seed=123,\n",
        "    batch_size=BATCH_SIZE,\n",
        "    image_size=IMG_SIZE)\n",
        "\n",
        "val_ds = tf.keras.utils.image_dataset_from_directory(\n",
        "    data_dir,\n",
        "    validation_split=0.2,\n",
        "    subset=\"validation\",\n",
        "    seed=123,\n",
        "    batch_size=BATCH_SIZE,\n",
        "    image_size=IMG_SIZE)\n",
        "\n",
        "test_dataset = val_ds.take(2)\n",
        "val_ds = val_ds.skip(2)\n",
        "\n",
        "print('Batches for testing -->', test_dataset.cardinality())\n",
        "print('Batches for validating -->', val_ds.cardinality())"
      ],
      "metadata": {
        "colab": {
          "base_uri": "https://localhost:8080/"
        },
        "id": "JyxCkpfIW6Et",
        "outputId": "76abc671-a045-479e-d7ef-94c4becf9e24"
      },
      "execution_count": null,
      "outputs": [
        {
          "output_type": "stream",
          "name": "stdout",
          "text": [
            "Found 1000 files belonging to 2 classes.\n",
            "Using 750 files for training.\n",
            "Found 1000 files belonging to 2 classes.\n",
            "Using 200 files for validation.\n",
            "Batches for testing --> tf.Tensor(2, shape=(), dtype=int64)\n",
            "Batches for validating --> tf.Tensor(2, shape=(), dtype=int64)\n"
          ]
        }
      ]
    },
    {
      "cell_type": "code",
      "source": [
        "class_names = train_ds.class_names\n",
        "print(class_names)"
      ],
      "metadata": {
        "colab": {
          "base_uri": "https://localhost:8080/"
        },
        "id": "LDZeIeNQXrDk",
        "outputId": "d497ec56-5028-4f96-91ea-4228ab87a2c1"
      },
      "execution_count": null,
      "outputs": [
        {
          "output_type": "stream",
          "name": "stdout",
          "text": [
            "['like', 'unlike']\n"
          ]
        }
      ]
    },
    {
      "cell_type": "code",
      "source": [
        "# plt.figure(figsize=(10, 10))\n",
        "# for images, labels in train_ds.take(1):\n",
        "#   for i in range(9):\n",
        "#     ax = plt.subplot(3, 3, i + 1)\n",
        "#     plt.imshow(images[i].numpy().astype(\"uint8\"))\n",
        "#     plt.title(class_names[labels[i]])\n",
        "#     plt.axis(\"off\")"
      ],
      "metadata": {
        "id": "RbwSI5r4Xtlo"
      },
      "execution_count": null,
      "outputs": []
    },
    {
      "cell_type": "markdown",
      "source": [
        "#### Data normalization"
      ],
      "metadata": {
        "id": "nu3y87CR0tCp"
      }
    },
    {
      "cell_type": "code",
      "source": [
        "normalization_layer = tf.keras.layers.Rescaling(1./255)"
      ],
      "metadata": {
        "id": "qZ02WWS5ZxFC"
      },
      "execution_count": null,
      "outputs": []
    },
    {
      "cell_type": "markdown",
      "source": [
        "### Configure the dataset for performance\n",
        "\n"
      ],
      "metadata": {
        "id": "PIUWXUuPZ83Q"
      }
    },
    {
      "cell_type": "code",
      "source": [
        "AUTOTUNE = tf.data.AUTOTUNE\n",
        "\n",
        "train_ds = train_ds.cache().prefetch(buffer_size=AUTOTUNE)\n",
        "val_ds = val_ds.cache().prefetch(buffer_size=AUTOTUNE)\n",
        "test_dataset = test_dataset.cache().prefetch(buffer_size=AUTOTUNE)"
      ],
      "metadata": {
        "id": "gYyjtFsXaB8g"
      },
      "execution_count": null,
      "outputs": []
    },
    {
      "cell_type": "markdown",
      "source": [
        "#### Data augmentation"
      ],
      "metadata": {
        "id": "kVhquVY-08Rv"
      }
    },
    {
      "cell_type": "code",
      "source": [
        "data_augmentation = tf.keras.Sequential([\n",
        "  tf.keras.layers.RandomFlip('horizontal'),\n",
        "  tf.keras.layers.RandomRotation(0.1),\n",
        "  tf.keras.layers.RandomZoom(0.1, 0.2)\n",
        "])"
      ],
      "metadata": {
        "id": "8i0juceDffdQ"
      },
      "execution_count": null,
      "outputs": []
    },
    {
      "cell_type": "markdown",
      "source": [
        "### Create the base model from the pre-trained convnets"
      ],
      "metadata": {
        "id": "Zv78pl_iaOFK"
      }
    },
    {
      "cell_type": "code",
      "source": [
        "# Create the base model from the pre-trained model MobileNet V2\n",
        "IMG_SHAPE = IMG_SIZE + (3,)\n",
        "\n",
        "early_stopping_monitor = EarlyStopping(patience=100, restore_best_weights=True)\n",
        "\n",
        "total_epochs = 100"
      ],
      "metadata": {
        "id": "qaphJVk6aaw4"
      },
      "execution_count": null,
      "outputs": []
    },
    {
      "cell_type": "code",
      "source": [
        "def create_model():\n",
        "    base_model = tf.keras.applications.MobileNetV2(input_shape=IMG_SHAPE,\n",
        "                                                include_top=False,\n",
        "                                                weights='imagenet')\n",
        "\n",
        "    base_model.trainable = True\n",
        "\n",
        "    # Let's take a look to see how many layers are in the base model\n",
        "    print(\"Number of layers in the base model: \", len(base_model.layers))\n",
        "\n",
        "    # Fine-tune from this layer onwards\n",
        "    fine_tune_at = 140 \n",
        "\n",
        "    # Freeze all the layers before the `fine_tune_at` layer\n",
        "    for layer in base_model.layers[:fine_tune_at]:\n",
        "        layer.trainable = False\n",
        "    \n",
        "    # # Add a classification head\n",
        "    # image_batch, label_batch = next(iter(train_ds))\n",
        "    # feature_batch = base_model(image_batch)\n",
        "\n",
        "    global_average_layer = tf.keras.layers.GlobalAveragePooling2D()\n",
        "    # feature_batch_average = global_average_layer(feature_batch)\n",
        "\n",
        "    prediction_layer = tf.keras.layers.Dense(1)\n",
        "    # prediction_batch = prediction_layer(feature_batch_average)\n",
        "    # print(prediction_batch.shape)\n",
        "\n",
        "    inputs = tf.keras.Input(shape=IMG_SHAPE)\n",
        "    x = data_augmentation(inputs)\n",
        "    x = normalization_layer(x)\n",
        "    x = base_model(x, training=False)\n",
        "    x = global_average_layer(x)\n",
        "    x = tf.keras.layers.Dropout(0.15)(x) \n",
        "    outputs = prediction_layer(x)\n",
        "    model = tf.keras.Model(inputs, outputs)\n",
        "\n",
        "    base_learning_rate = 0.0001\n",
        "\n",
        "    model.compile(loss=tf.keras.losses.BinaryCrossentropy(from_logits=True), \n",
        "                optimizer = tf.keras.optimizers.Adam(learning_rate=base_learning_rate/20), #RMSprop\n",
        "                metrics=['accuracy'])\n",
        "\n",
        "    return model"
      ],
      "metadata": {
        "id": "K7nN9ZpCacZI"
      },
      "execution_count": null,
      "outputs": []
    },
    {
      "cell_type": "code",
      "source": [
        "model = create_model()\n",
        "\n",
        "model.summary()"
      ],
      "metadata": {
        "colab": {
          "base_uri": "https://localhost:8080/"
        },
        "id": "k8tHL4uTalfT",
        "outputId": "5973652f-f07a-4cf4-d958-2dc90f5e21d2"
      },
      "execution_count": null,
      "outputs": [
        {
          "output_type": "stream",
          "name": "stdout",
          "text": [
            "Downloading data from https://storage.googleapis.com/tensorflow/keras-applications/mobilenet_v2/mobilenet_v2_weights_tf_dim_ordering_tf_kernels_1.0_224_no_top.h5\n",
            "9412608/9406464 [==============================] - 0s 0us/step\n",
            "9420800/9406464 [==============================] - 0s 0us/step\n",
            "Number of layers in the base model:  154\n",
            "Model: \"model_13\"\n",
            "_________________________________________________________________\n",
            " Layer (type)                Output Shape              Param #   \n",
            "=================================================================\n",
            " input_28 (InputLayer)       [(None, 224, 224, 3)]     0         \n",
            "                                                                 \n",
            " sequential_7 (Sequential)   (None, 224, 224, 3)       0         \n",
            "                                                                 \n",
            " rescaling_11 (Rescaling)    (None, 224, 224, 3)       0         \n",
            "                                                                 \n",
            " mobilenetv2_1.00_224 (Funct  (None, 7, 7, 1280)       2257984   \n",
            " ional)                                                          \n",
            "                                                                 \n",
            " global_average_pooling2d_13  (None, 1280)             0         \n",
            "  (GlobalAveragePooling2D)                                       \n",
            "                                                                 \n",
            " dropout_13 (Dropout)        (None, 1280)              0         \n",
            "                                                                 \n",
            " dense_13 (Dense)            (None, 1)                 1281      \n",
            "                                                                 \n",
            "=================================================================\n",
            "Total params: 2,259,265\n",
            "Trainable params: 1,041,281\n",
            "Non-trainable params: 1,217,984\n",
            "_________________________________________________________________\n"
          ]
        }
      ]
    },
    {
      "cell_type": "code",
      "source": [
        "history = model.fit(train_ds, epochs=total_epochs, verbose=True, \n",
        "                    validation_data=val_ds, callbacks = [early_stopping_monitor])"
      ],
      "metadata": {
        "colab": {
          "base_uri": "https://localhost:8080/"
        },
        "id": "4B4O1U36atjP",
        "outputId": "c7b2eec9-4b06-4b31-89aa-b564e3548084"
      },
      "execution_count": null,
      "outputs": [
        {
          "output_type": "stream",
          "name": "stdout",
          "text": [
            "Epoch 1/100\n",
            "12/12 [==============================] - 11s 348ms/step - loss: 0.8587 - accuracy: 0.5013 - val_loss: 0.7505 - val_accuracy: 0.5278\n",
            "Epoch 2/100\n",
            "12/12 [==============================] - 1s 100ms/step - loss: 0.7638 - accuracy: 0.5000 - val_loss: 0.7772 - val_accuracy: 0.4861\n",
            "Epoch 3/100\n",
            "12/12 [==============================] - 1s 103ms/step - loss: 0.7402 - accuracy: 0.5267 - val_loss: 0.7133 - val_accuracy: 0.6250\n",
            "Epoch 4/100\n",
            "12/12 [==============================] - 1s 103ms/step - loss: 0.7326 - accuracy: 0.5147 - val_loss: 0.6956 - val_accuracy: 0.6111\n",
            "Epoch 5/100\n",
            "12/12 [==============================] - 1s 104ms/step - loss: 0.7121 - accuracy: 0.5507 - val_loss: 0.6944 - val_accuracy: 0.6250\n",
            "Epoch 6/100\n",
            "12/12 [==============================] - 1s 104ms/step - loss: 0.6859 - accuracy: 0.5600 - val_loss: 0.6889 - val_accuracy: 0.6389\n",
            "Epoch 7/100\n",
            "12/12 [==============================] - 1s 110ms/step - loss: 0.6875 - accuracy: 0.5467 - val_loss: 0.6838 - val_accuracy: 0.6528\n",
            "Epoch 8/100\n",
            "12/12 [==============================] - 1s 105ms/step - loss: 0.6977 - accuracy: 0.5453 - val_loss: 0.6770 - val_accuracy: 0.6389\n",
            "Epoch 9/100\n",
            "12/12 [==============================] - 1s 104ms/step - loss: 0.6783 - accuracy: 0.5680 - val_loss: 0.6745 - val_accuracy: 0.6528\n",
            "Epoch 10/100\n",
            "12/12 [==============================] - 1s 104ms/step - loss: 0.6579 - accuracy: 0.5867 - val_loss: 0.6696 - val_accuracy: 0.6528\n",
            "Epoch 11/100\n",
            "12/12 [==============================] - 1s 104ms/step - loss: 0.6701 - accuracy: 0.5680 - val_loss: 0.6669 - val_accuracy: 0.6528\n",
            "Epoch 12/100\n",
            "12/12 [==============================] - 1s 104ms/step - loss: 0.6561 - accuracy: 0.5907 - val_loss: 0.6634 - val_accuracy: 0.6667\n",
            "Epoch 13/100\n",
            "12/12 [==============================] - 1s 105ms/step - loss: 0.6573 - accuracy: 0.5773 - val_loss: 0.6625 - val_accuracy: 0.6667\n",
            "Epoch 14/100\n",
            "12/12 [==============================] - 1s 104ms/step - loss: 0.6514 - accuracy: 0.5707 - val_loss: 0.6614 - val_accuracy: 0.6528\n",
            "Epoch 15/100\n",
            "12/12 [==============================] - 1s 105ms/step - loss: 0.6410 - accuracy: 0.5867 - val_loss: 0.6595 - val_accuracy: 0.6389\n",
            "Epoch 16/100\n",
            "12/12 [==============================] - 1s 104ms/step - loss: 0.6407 - accuracy: 0.5827 - val_loss: 0.6559 - val_accuracy: 0.6250\n",
            "Epoch 17/100\n",
            "12/12 [==============================] - 1s 100ms/step - loss: 0.6224 - accuracy: 0.6173 - val_loss: 0.6565 - val_accuracy: 0.6389\n",
            "Epoch 18/100\n",
            "12/12 [==============================] - 1s 106ms/step - loss: 0.6361 - accuracy: 0.6080 - val_loss: 0.6534 - val_accuracy: 0.6389\n",
            "Epoch 19/100\n",
            "12/12 [==============================] - 1s 106ms/step - loss: 0.6436 - accuracy: 0.6027 - val_loss: 0.6490 - val_accuracy: 0.6389\n",
            "Epoch 20/100\n",
            "12/12 [==============================] - 1s 105ms/step - loss: 0.6141 - accuracy: 0.6307 - val_loss: 0.6455 - val_accuracy: 0.6389\n",
            "Epoch 21/100\n",
            "12/12 [==============================] - 1s 106ms/step - loss: 0.6283 - accuracy: 0.6067 - val_loss: 0.6440 - val_accuracy: 0.6389\n",
            "Epoch 22/100\n",
            "12/12 [==============================] - 1s 107ms/step - loss: 0.6170 - accuracy: 0.6253 - val_loss: 0.6435 - val_accuracy: 0.6528\n",
            "Epoch 23/100\n",
            "12/12 [==============================] - 1s 106ms/step - loss: 0.6114 - accuracy: 0.6080 - val_loss: 0.6398 - val_accuracy: 0.6528\n",
            "Epoch 24/100\n",
            "12/12 [==============================] - 1s 105ms/step - loss: 0.5899 - accuracy: 0.6600 - val_loss: 0.6366 - val_accuracy: 0.6528\n",
            "Epoch 25/100\n",
            "12/12 [==============================] - 1s 99ms/step - loss: 0.6124 - accuracy: 0.6227 - val_loss: 0.6386 - val_accuracy: 0.6667\n",
            "Epoch 26/100\n",
            "12/12 [==============================] - 1s 98ms/step - loss: 0.6114 - accuracy: 0.6493 - val_loss: 0.6373 - val_accuracy: 0.6667\n",
            "Epoch 27/100\n",
            "12/12 [==============================] - 1s 105ms/step - loss: 0.6140 - accuracy: 0.6387 - val_loss: 0.6340 - val_accuracy: 0.6667\n",
            "Epoch 28/100\n",
            "12/12 [==============================] - 1s 100ms/step - loss: 0.6020 - accuracy: 0.6267 - val_loss: 0.6365 - val_accuracy: 0.6806\n",
            "Epoch 29/100\n",
            "12/12 [==============================] - 1s 106ms/step - loss: 0.5812 - accuracy: 0.6653 - val_loss: 0.6280 - val_accuracy: 0.6667\n",
            "Epoch 30/100\n",
            "12/12 [==============================] - 1s 100ms/step - loss: 0.5913 - accuracy: 0.6387 - val_loss: 0.6322 - val_accuracy: 0.6944\n",
            "Epoch 31/100\n",
            "12/12 [==============================] - 1s 99ms/step - loss: 0.5905 - accuracy: 0.6653 - val_loss: 0.6304 - val_accuracy: 0.6806\n",
            "Epoch 32/100\n",
            "12/12 [==============================] - 1s 106ms/step - loss: 0.5845 - accuracy: 0.6627 - val_loss: 0.6235 - val_accuracy: 0.6667\n",
            "Epoch 33/100\n",
            "12/12 [==============================] - 1s 100ms/step - loss: 0.5851 - accuracy: 0.6573 - val_loss: 0.6262 - val_accuracy: 0.6667\n",
            "Epoch 34/100\n",
            "12/12 [==============================] - 1s 100ms/step - loss: 0.5828 - accuracy: 0.6667 - val_loss: 0.6272 - val_accuracy: 0.6944\n",
            "Epoch 35/100\n",
            "12/12 [==============================] - 1s 100ms/step - loss: 0.5753 - accuracy: 0.6707 - val_loss: 0.6271 - val_accuracy: 0.6944\n",
            "Epoch 36/100\n",
            "12/12 [==============================] - 1s 105ms/step - loss: 0.5798 - accuracy: 0.6733 - val_loss: 0.6232 - val_accuracy: 0.6944\n",
            "Epoch 37/100\n",
            "12/12 [==============================] - 1s 99ms/step - loss: 0.5637 - accuracy: 0.6680 - val_loss: 0.6263 - val_accuracy: 0.6944\n",
            "Epoch 38/100\n",
            "12/12 [==============================] - 1s 106ms/step - loss: 0.5685 - accuracy: 0.6760 - val_loss: 0.6194 - val_accuracy: 0.6944\n",
            "Epoch 39/100\n",
            "12/12 [==============================] - 1s 99ms/step - loss: 0.5774 - accuracy: 0.6467 - val_loss: 0.6202 - val_accuracy: 0.6806\n",
            "Epoch 40/100\n",
            "12/12 [==============================] - 1s 104ms/step - loss: 0.5732 - accuracy: 0.6893 - val_loss: 0.6154 - val_accuracy: 0.6806\n",
            "Epoch 41/100\n",
            "12/12 [==============================] - 1s 105ms/step - loss: 0.5528 - accuracy: 0.6880 - val_loss: 0.6153 - val_accuracy: 0.6806\n",
            "Epoch 42/100\n",
            "12/12 [==============================] - 1s 103ms/step - loss: 0.5734 - accuracy: 0.6800 - val_loss: 0.6129 - val_accuracy: 0.6806\n",
            "Epoch 43/100\n",
            "12/12 [==============================] - 1s 99ms/step - loss: 0.5541 - accuracy: 0.6867 - val_loss: 0.6151 - val_accuracy: 0.6944\n",
            "Epoch 44/100\n",
            "12/12 [==============================] - 1s 103ms/step - loss: 0.5539 - accuracy: 0.6813 - val_loss: 0.6108 - val_accuracy: 0.6806\n",
            "Epoch 45/100\n",
            "12/12 [==============================] - 1s 103ms/step - loss: 0.5415 - accuracy: 0.7093 - val_loss: 0.6094 - val_accuracy: 0.6806\n",
            "Epoch 46/100\n",
            "12/12 [==============================] - 1s 98ms/step - loss: 0.5396 - accuracy: 0.7013 - val_loss: 0.6127 - val_accuracy: 0.6806\n",
            "Epoch 47/100\n",
            "12/12 [==============================] - 1s 98ms/step - loss: 0.5434 - accuracy: 0.7040 - val_loss: 0.6122 - val_accuracy: 0.6806\n",
            "Epoch 48/100\n",
            "12/12 [==============================] - 1s 100ms/step - loss: 0.5236 - accuracy: 0.7067 - val_loss: 0.6142 - val_accuracy: 0.6806\n",
            "Epoch 49/100\n",
            "12/12 [==============================] - 1s 104ms/step - loss: 0.5281 - accuracy: 0.7187 - val_loss: 0.6058 - val_accuracy: 0.6806\n",
            "Epoch 50/100\n",
            "12/12 [==============================] - 1s 99ms/step - loss: 0.5394 - accuracy: 0.7013 - val_loss: 0.6065 - val_accuracy: 0.6806\n",
            "Epoch 51/100\n",
            "12/12 [==============================] - 1s 105ms/step - loss: 0.5391 - accuracy: 0.7000 - val_loss: 0.6043 - val_accuracy: 0.6806\n",
            "Epoch 52/100\n",
            "12/12 [==============================] - 1s 97ms/step - loss: 0.5327 - accuracy: 0.7040 - val_loss: 0.6056 - val_accuracy: 0.6944\n",
            "Epoch 53/100\n",
            "12/12 [==============================] - 1s 97ms/step - loss: 0.5257 - accuracy: 0.7080 - val_loss: 0.6078 - val_accuracy: 0.6667\n",
            "Epoch 54/100\n",
            "12/12 [==============================] - 1s 102ms/step - loss: 0.5281 - accuracy: 0.7093 - val_loss: 0.5971 - val_accuracy: 0.7083\n",
            "Epoch 55/100\n",
            "12/12 [==============================] - 1s 97ms/step - loss: 0.5273 - accuracy: 0.6960 - val_loss: 0.6000 - val_accuracy: 0.6944\n",
            "Epoch 56/100\n",
            "12/12 [==============================] - 1s 97ms/step - loss: 0.5182 - accuracy: 0.7093 - val_loss: 0.5975 - val_accuracy: 0.6806\n",
            "Epoch 57/100\n",
            "12/12 [==============================] - 1s 103ms/step - loss: 0.5218 - accuracy: 0.7080 - val_loss: 0.5953 - val_accuracy: 0.6667\n",
            "Epoch 58/100\n",
            "12/12 [==============================] - 1s 103ms/step - loss: 0.5047 - accuracy: 0.7147 - val_loss: 0.5929 - val_accuracy: 0.6944\n",
            "Epoch 59/100\n",
            "12/12 [==============================] - 1s 97ms/step - loss: 0.4873 - accuracy: 0.7413 - val_loss: 0.6048 - val_accuracy: 0.7083\n",
            "Epoch 60/100\n",
            "12/12 [==============================] - 1s 104ms/step - loss: 0.5034 - accuracy: 0.7320 - val_loss: 0.5865 - val_accuracy: 0.6944\n",
            "Epoch 61/100\n",
            "12/12 [==============================] - 1s 97ms/step - loss: 0.4987 - accuracy: 0.7267 - val_loss: 0.5941 - val_accuracy: 0.7083\n",
            "Epoch 62/100\n",
            "12/12 [==============================] - 1s 103ms/step - loss: 0.5062 - accuracy: 0.7253 - val_loss: 0.5855 - val_accuracy: 0.6944\n",
            "Epoch 63/100\n",
            "12/12 [==============================] - 1s 98ms/step - loss: 0.5029 - accuracy: 0.7253 - val_loss: 0.5941 - val_accuracy: 0.7083\n",
            "Epoch 64/100\n",
            "12/12 [==============================] - 1s 98ms/step - loss: 0.4936 - accuracy: 0.7533 - val_loss: 0.5930 - val_accuracy: 0.7222\n",
            "Epoch 65/100\n",
            "12/12 [==============================] - 1s 103ms/step - loss: 0.5034 - accuracy: 0.7347 - val_loss: 0.5811 - val_accuracy: 0.7083\n",
            "Epoch 66/100\n",
            "12/12 [==============================] - 1s 98ms/step - loss: 0.4863 - accuracy: 0.7493 - val_loss: 0.5886 - val_accuracy: 0.7083\n",
            "Epoch 67/100\n",
            "12/12 [==============================] - 1s 103ms/step - loss: 0.4993 - accuracy: 0.7360 - val_loss: 0.5782 - val_accuracy: 0.6806\n",
            "Epoch 68/100\n",
            "12/12 [==============================] - 1s 98ms/step - loss: 0.5035 - accuracy: 0.7360 - val_loss: 0.5863 - val_accuracy: 0.7083\n",
            "Epoch 69/100\n",
            "12/12 [==============================] - 1s 103ms/step - loss: 0.4920 - accuracy: 0.7480 - val_loss: 0.5759 - val_accuracy: 0.6944\n",
            "Epoch 70/100\n",
            "12/12 [==============================] - 1s 98ms/step - loss: 0.4793 - accuracy: 0.7333 - val_loss: 0.5815 - val_accuracy: 0.7222\n",
            "Epoch 71/100\n",
            "12/12 [==============================] - 1s 97ms/step - loss: 0.4690 - accuracy: 0.7440 - val_loss: 0.5787 - val_accuracy: 0.7222\n",
            "Epoch 72/100\n",
            "12/12 [==============================] - 1s 99ms/step - loss: 0.4670 - accuracy: 0.7587 - val_loss: 0.5859 - val_accuracy: 0.6944\n",
            "Epoch 73/100\n",
            "12/12 [==============================] - 1s 103ms/step - loss: 0.4728 - accuracy: 0.7773 - val_loss: 0.5750 - val_accuracy: 0.6944\n",
            "Epoch 74/100\n",
            "12/12 [==============================] - 1s 103ms/step - loss: 0.4587 - accuracy: 0.7667 - val_loss: 0.5750 - val_accuracy: 0.6944\n",
            "Epoch 75/100\n",
            "12/12 [==============================] - 1s 97ms/step - loss: 0.4732 - accuracy: 0.7480 - val_loss: 0.5905 - val_accuracy: 0.7083\n",
            "Epoch 76/100\n",
            "12/12 [==============================] - 1s 104ms/step - loss: 0.4864 - accuracy: 0.7307 - val_loss: 0.5709 - val_accuracy: 0.6806\n",
            "Epoch 77/100\n",
            "12/12 [==============================] - 1s 98ms/step - loss: 0.4659 - accuracy: 0.7533 - val_loss: 0.5776 - val_accuracy: 0.7083\n",
            "Epoch 78/100\n",
            "12/12 [==============================] - 1s 99ms/step - loss: 0.4728 - accuracy: 0.7547 - val_loss: 0.5750 - val_accuracy: 0.7083\n",
            "Epoch 79/100\n",
            "12/12 [==============================] - 1s 98ms/step - loss: 0.4538 - accuracy: 0.7667 - val_loss: 0.5766 - val_accuracy: 0.7083\n",
            "Epoch 80/100\n",
            "12/12 [==============================] - 1s 105ms/step - loss: 0.4666 - accuracy: 0.7667 - val_loss: 0.5670 - val_accuracy: 0.6944\n",
            "Epoch 81/100\n",
            "12/12 [==============================] - 1s 98ms/step - loss: 0.4726 - accuracy: 0.7400 - val_loss: 0.5794 - val_accuracy: 0.7361\n",
            "Epoch 82/100\n",
            "12/12 [==============================] - 1s 104ms/step - loss: 0.4646 - accuracy: 0.7573 - val_loss: 0.5579 - val_accuracy: 0.6944\n",
            "Epoch 83/100\n",
            "12/12 [==============================] - 1s 98ms/step - loss: 0.4659 - accuracy: 0.7667 - val_loss: 0.5732 - val_accuracy: 0.7222\n",
            "Epoch 84/100\n",
            "12/12 [==============================] - 1s 98ms/step - loss: 0.4428 - accuracy: 0.7773 - val_loss: 0.5642 - val_accuracy: 0.6944\n",
            "Epoch 85/100\n",
            "12/12 [==============================] - 1s 98ms/step - loss: 0.4608 - accuracy: 0.7560 - val_loss: 0.5663 - val_accuracy: 0.7083\n",
            "Epoch 86/100\n",
            "12/12 [==============================] - 1s 105ms/step - loss: 0.4423 - accuracy: 0.7827 - val_loss: 0.5573 - val_accuracy: 0.6944\n",
            "Epoch 87/100\n",
            "12/12 [==============================] - 1s 98ms/step - loss: 0.4419 - accuracy: 0.7707 - val_loss: 0.5741 - val_accuracy: 0.7361\n",
            "Epoch 88/100\n",
            "12/12 [==============================] - 1s 98ms/step - loss: 0.4530 - accuracy: 0.7773 - val_loss: 0.5706 - val_accuracy: 0.7222\n",
            "Epoch 89/100\n",
            "12/12 [==============================] - 1s 98ms/step - loss: 0.4446 - accuracy: 0.7893 - val_loss: 0.5581 - val_accuracy: 0.6944\n",
            "Epoch 90/100\n",
            "12/12 [==============================] - 1s 98ms/step - loss: 0.4406 - accuracy: 0.7800 - val_loss: 0.5690 - val_accuracy: 0.7222\n",
            "Epoch 91/100\n",
            "12/12 [==============================] - 1s 98ms/step - loss: 0.4303 - accuracy: 0.7853 - val_loss: 0.5611 - val_accuracy: 0.7083\n",
            "Epoch 92/100\n",
            "12/12 [==============================] - 1s 98ms/step - loss: 0.4425 - accuracy: 0.7707 - val_loss: 0.5651 - val_accuracy: 0.7083\n",
            "Epoch 93/100\n",
            "12/12 [==============================] - 1s 98ms/step - loss: 0.4360 - accuracy: 0.7827 - val_loss: 0.5613 - val_accuracy: 0.6944\n",
            "Epoch 94/100\n",
            "12/12 [==============================] - 1s 98ms/step - loss: 0.4485 - accuracy: 0.7573 - val_loss: 0.5805 - val_accuracy: 0.7083\n",
            "Epoch 95/100\n",
            "12/12 [==============================] - 1s 103ms/step - loss: 0.4328 - accuracy: 0.8093 - val_loss: 0.5542 - val_accuracy: 0.6806\n",
            "Epoch 96/100\n",
            "12/12 [==============================] - 1s 100ms/step - loss: 0.4459 - accuracy: 0.7600 - val_loss: 0.5649 - val_accuracy: 0.7222\n",
            "Epoch 97/100\n",
            "12/12 [==============================] - 1s 98ms/step - loss: 0.4188 - accuracy: 0.7987 - val_loss: 0.5717 - val_accuracy: 0.7361\n",
            "Epoch 98/100\n",
            "12/12 [==============================] - 1s 97ms/step - loss: 0.4274 - accuracy: 0.7747 - val_loss: 0.5558 - val_accuracy: 0.6944\n",
            "Epoch 99/100\n",
            "12/12 [==============================] - 1s 98ms/step - loss: 0.4144 - accuracy: 0.8027 - val_loss: 0.5680 - val_accuracy: 0.7500\n",
            "Epoch 100/100\n",
            "12/12 [==============================] - 1s 98ms/step - loss: 0.4075 - accuracy: 0.7933 - val_loss: 0.5633 - val_accuracy: 0.7361\n"
          ]
        }
      ]
    },
    {
      "cell_type": "code",
      "source": [
        "plot_history(history)"
      ],
      "metadata": {
        "colab": {
          "base_uri": "https://localhost:8080/",
          "height": 513
        },
        "id": "zCkRHHY6cBWl",
        "outputId": "5a171f39-65f6-4ac3-91bc-5ca72040aca3"
      },
      "execution_count": null,
      "outputs": [
        {
          "output_type": "display_data",
          "data": {
            "text/plain": [
              "<Figure size 576x576 with 2 Axes>"
            ],
            "image/png": "[encoded data removed]"
          },
          "metadata": {
            "needs_background": "light"
          }
        }
      ]
    },
    {
      "cell_type": "markdown",
      "source": [
        "# Rezultatai\n",
        "\n",
        "*   Pritaikius skirtingus `tf.keras.applications` modulius (naudotas *Transfer learning* metodas), išsirinktas tiksliausias modelis - `MobileNet v2` - su 75% tikslumu. \n",
        "*   Kiti modeliai - `MobileNetV3Large`, `MobileNetV3Small`, `Xception` - prognozavo labai prastai, kiekvieno tikslumas siekė ~50% (*monetos metimas*).\n",
        "*   `Inception V3` prognozavo 65% tikslumu.\n",
        "\n",
        "\n",
        "\n",
        "\n"
      ],
      "metadata": {
        "id": "3ORVHJNH7DUE"
      }
    },
    {
      "cell_type": "markdown",
      "source": [
        "## Pasiūlymai siekiant pagerinti tikslumą\n",
        "\n",
        "*   pridėti kiekvienos nuotraukos atributus, t. y. prijungti lentelinius duomenis: `ar blondinė`, `ar brunetė`, `šypsena`, `daug makiažo`, etc.)\n",
        "*   modeliuoti naudojant `MobileNet v2`\n",
        "*   modeliuoti naudojant `Inception V3`\n",
        "\n",
        "\n",
        "\n",
        "\n",
        "\n",
        "\n",
        "\n",
        "\n"
      ],
      "metadata": {
        "id": "YhgFzGZ8_93J"
      }
    },
    {
      "cell_type": "code",
      "source": [
        "# Save keras model in Keras H5 format. \n",
        "model_path = 'my_model.h5'\n",
        "model.save(model_path)"
      ],
      "metadata": {
        "id": "jCLaUBjjmDGz"
      },
      "execution_count": null,
      "outputs": []
    },
    {
      "cell_type": "code",
      "source": [
        "# Load keras model\n",
        "model_path = 'my_model.h5'\n",
        "model = tf.keras.models.load_model(model_path)"
      ],
      "metadata": {
        "id": "uSNp8SCPmFYV"
      },
      "execution_count": null,
      "outputs": []
    },
    {
      "cell_type": "markdown",
      "source": [
        "## App\n",
        "https://huggingface.co/spaces/sarunas856/tinder"
      ],
      "metadata": {
        "id": "JOr3pLdt8wQm"
      }
    },
    {
      "cell_type": "markdown",
      "source": [
        "## Literatūra\n",
        "*   https://www.tensorflow.org/api_docs/python/tf/keras/applications\n",
        "*   https://www.kaggle.com/code/bmarcos/image-recognition-gender-detection-inceptionv3/notebook\n",
        "*   https://github.com/giedriusblazys/SDA_DS_class\n",
        "*   https://ds.en.sdacademy.pro/slides/\n",
        "\n",
        "\n",
        "\n",
        "\n",
        "\n"
      ],
      "metadata": {
        "id": "zJ7V3oWY8tQo"
      }
    }
  ]
}